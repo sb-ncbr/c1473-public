{
 "cells": [
  {
   "cell_type": "code",
   "execution_count": null,
   "id": "6a58ce5f-d830-41d1-b446-3b6265622144",
   "metadata": {},
   "outputs": [],
   "source": [
    "import nglview as nv\n",
    "import mdtraj as md\n",
    "import numpy as np\n",
    "import urllib.request"
   ]
  },
  {
   "cell_type": "code",
   "execution_count": null,
   "id": "0581ec01-d381-4daa-8e0c-fabc31adfe3c",
   "metadata": {},
   "outputs": [],
   "source": [
    "!mkdir ../data\n",
    "urllib.request.urlretrieve(\"https://drive.google.com/uc?export=download&id=1ddOJPQxXCw3jY3Yds6bm-EwGps8ClVGQ\",\"../data/trpcage.pdb\")\n",
    "urllib.request.urlretrieve(\"https://drive.google.com/uc?export=download&id=1FRM3-bCdbesShVcyRfk0cj0ILBL1ycbb\",\"../data/trpcage.xtc\")\n",
    "urllib.request.urlretrieve(\"https://drive.google.com/uc?export=download&id=1-we5RP6hJ6jezBsYXB9RR3Wjfblx4ava\",\"../data/trpcage_messed.xtc\")\n"
   ]
  },
  {
   "cell_type": "code",
   "execution_count": null,
   "id": "59b915fa-8a2d-4c12-9976-66fd4bf7c509",
   "metadata": {},
   "outputs": [],
   "source": [
    "traj = md.load_xtc('../data/trpcage.xtc',top='../data/trpcage.pdb')"
   ]
  },
  {
   "cell_type": "code",
   "execution_count": null,
   "id": "5126c79a-395e-4e9c-8625-b158b8027ec8",
   "metadata": {},
   "outputs": [],
   "source": [
    "v = nv.show_mdtraj(traj)\n",
    "v.clear()\n",
    "v.add_representation('licorice')\n",
    "v"
   ]
  }
 ],
 "metadata": {
  "kernelspec": {
   "display_name": "Python [conda env:base] *",
   "language": "python",
   "name": "conda-base-py"
  },
  "language_info": {
   "codemirror_mode": {
    "name": "ipython",
    "version": 3
   },
   "file_extension": ".py",
   "mimetype": "text/x-python",
   "name": "python",
   "nbconvert_exporter": "python",
   "pygments_lexer": "ipython3",
   "version": "3.11.6"
  }
 },
 "nbformat": 4,
 "nbformat_minor": 5
}
