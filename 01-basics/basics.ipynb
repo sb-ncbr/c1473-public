{
 "cells": [
  {
   "cell_type": "markdown",
   "id": "86513788-8952-43d0-9718-03b4e45927f3",
   "metadata": {},
   "source": [
    "Od tabule k počítači\n",
    "===================="
   ]
  },
  {
   "cell_type": "markdown",
   "id": "88c2a446-c798-418b-83e8-de62f9010b19",
   "metadata": {},
   "source": [
    "***Cílem úvodní části je ukázat, co se změní, pokud přestaneme výpočty dělat ručně a zkusíme si práci ulehčit využitím počítače.***"
   ]
  },
  {
   "cell_type": "code",
   "execution_count": null,
   "id": "3b72939f-c1fc-4b43-b3a2-f87c96962581",
   "metadata": {},
   "outputs": [],
   "source": [
    "# Nutné importy pro celý notebook\n",
    "import time\n",
    "import math\n",
    "import decimal\n",
    "import scipy\n",
    "import numpy as np\n",
    "import pandas as pd\n",
    "import matplotlib.pyplot as plt"
   ]
  },
  {
   "cell_type": "markdown",
   "id": "f72ad5ae-b0f0-4353-a7aa-430e7d7e56a9",
   "metadata": {},
   "source": [
    "# Integrál"
   ]
  },
  {
   "cell_type": "markdown",
   "id": "e2bdb25d-5343-40f7-8e09-a6c70367964e",
   "metadata": {},
   "source": [
    "Začněme typickým příkladem z matematické analýzy:\n",
    "\n",
    "$$\n",
    "\\int_0^1\\, x^{30}e^{x-1}\\,\\mathrm{d}x\n",
    "$$\n"
   ]
  },
  {
   "cell_type": "markdown",
   "id": "f778c876-756b-4bab-a8dd-2b87f5301776",
   "metadata": {},
   "source": [
    "## Analýza"
   ]
  },
  {
   "cell_type": "code",
   "execution_count": null,
   "id": "ff35385b-591b-4c6c-b612-98d1f5be4c2e",
   "metadata": {},
   "outputs": [],
   "source": [
    "# TODO: Jaké vlastnosti má zadáná funkce? Dokážeme říct i něco o hodnotě integrálu?\n",
    "# TODO: Vykreslete funkci užitím knihovny matplotlib"
   ]
  },
  {
   "cell_type": "markdown",
   "id": "e0cd79f0-e5c0-4f9e-816a-6ca9da7c28ce",
   "metadata": {},
   "source": [
    "## Analytické řešení"
   ]
  },
  {
   "cell_type": "markdown",
   "id": "353aaf30-b419-4ee1-abea-cfb2be47906c",
   "metadata": {},
   "source": [
    "Integrál ze zadání je typickým představitelem příkladu pro řešení metodou *per partes*."
   ]
  },
  {
   "cell_type": "markdown",
   "id": "f4adb260-0f76-4f6b-8cfe-1e084d51947a",
   "metadata": {},
   "source": [
    "Zkusme si náš příklad zobecnit a označme náš integrál jako $I$, původní zadání pak odpovídá výpočtu $I_{30}$:\n",
    "\n",
    "$$\n",
    "I_n = \\int_0^1\\, x^{n}e^{x-1}\\,\\mathrm{d}x\n",
    "$$\n",
    "\n",
    "Po jednom použití metody *per partes* získáváme:\n",
    "\n",
    "$$\n",
    "\\begin{aligned}\n",
    "I_n &= [x^ne^{x-1}]^1_0 - n \\int_0^1\\, x^{n - 1}e^{x-1}\\,\\mathrm{d}x\\\\\n",
    "I_n &= 1 - n \\int_0^1\\, x^{n - 1}e^{x-1}\\,\\mathrm{d}x\n",
    "\\end{aligned}\n",
    "$$"
   ]
  },
  {
   "cell_type": "markdown",
   "id": "6256121c-a288-477f-ba79-685affe9f997",
   "metadata": {},
   "source": [
    "Pro $n = 30$ stačí použít metodu *per partes* ještě 29krát a máme výsledek!"
   ]
  },
  {
   "cell_type": "markdown",
   "id": "51088c52-013a-46a7-bef0-3adcd6d0ea3e",
   "metadata": {},
   "source": [
    "## Rekurentní řešení (1)"
   ]
  },
  {
   "cell_type": "markdown",
   "id": "619a640d-26c6-4aa4-be1d-842f52514c5f",
   "metadata": {},
   "source": [
    "Nebo si můžeme všimnout, že integrál na pravé straně výrazu vypadá přesně jako $I_{n - 1}$. Můžeme tedy snadno získat následující rekurentní vztah:\n",
    "\n",
    "$$\n",
    "I_n = 1 - nI_{n - 1}\n",
    "$$"
   ]
  },
  {
   "cell_type": "markdown",
   "id": "17eecc86-44cc-4a47-ab06-7f9bc91dc249",
   "metadata": {},
   "source": [
    "Snadno jsme navíc schopni spočítat $I_0$:\n",
    "\n",
    "$$\n",
    "I_0 = \\int_0^1\\, x^0e^{x-1}\\,\\mathrm{d}x = [e^{x-1}]^1_0 = e^0 - e^{-1} = \\mathbf{1 - 1 / e}\n",
    "$$"
   ]
  },
  {
   "cell_type": "markdown",
   "id": "548353b5-5cd6-4e04-8894-b6492f694d91",
   "metadata": {},
   "source": [
    "Nyní kombinací předchozích můžeme už snadno spočítat hodnotu libovolného $I_n$, tedy např. $I_{30}$. Nejprve inicializace:"
   ]
  },
  {
   "cell_type": "code",
   "execution_count": null,
   "id": "343013d8-975b-437a-99c4-79df51db612f",
   "metadata": {},
   "outputs": [],
   "source": [
    "# TODO: doplňte kód pro výpočet I[0]"
   ]
  },
  {
   "cell_type": "markdown",
   "id": "421ecc6c-0dab-4016-b2d1-43e6d477b397",
   "metadata": {},
   "source": [
    "A nyní výpočet $I_{30}$:"
   ]
  },
  {
   "cell_type": "code",
   "execution_count": null,
   "id": "4ba32437-61e1-41a0-95ae-cbe26a17e4a2",
   "metadata": {},
   "outputs": [],
   "source": [
    "# TODO: Doplňte kód pro výpočet I[1] až I[30]"
   ]
  },
  {
   "cell_type": "markdown",
   "id": "0355463f-b014-425c-a307-4a6233d65c5d",
   "metadata": {},
   "source": [
    "Podívejme se nyní na kompletní průběh výpočtu:"
   ]
  },
  {
   "cell_type": "code",
   "execution_count": null,
   "id": "321e333d-a1e3-42ca-b8bb-078679180fd0",
   "metadata": {},
   "outputs": [],
   "source": [
    "for i in range(31):\n",
    "    print(f'I[{i:2d}] = {I[i]}')"
   ]
  },
  {
   "cell_type": "markdown",
   "id": "8bb3e546-5c99-4fa4-b7cb-167e5aada7e2",
   "metadata": {},
   "source": [
    "# Reprezentace čísel v počítači"
   ]
  },
  {
   "cell_type": "markdown",
   "id": "deb8d89d-d27b-41cb-bbc0-60a16536ac74",
   "metadata": {},
   "source": [
    "Při přemýšlení o reprezentaci čísel v počítači má smysl rozdělit si je na dvě kategorie:\n",
    "\n",
    "- celá čísla\n",
    "- reálná čísla\n",
    "\n",
    "Jednu věc ale mají společnou. Jak celých, tak reálných čísel je nekonečně mnoho. Abychom mohli nějaké číslo v počítači uložit, musíme mít k dispozici dostatečně velkou paměť. Velikost paměti je ale zcela jistě konečná (a tedy omezená)."
   ]
  },
  {
   "cell_type": "markdown",
   "id": "1af2d317-d6f7-4396-97ab-d65902e102fd",
   "metadata": {},
   "source": [
    "## Reprezentace celých čísel"
   ]
  },
  {
   "cell_type": "markdown",
   "id": "f4c95ed0-05b2-47f8-915e-02fc6513b885",
   "metadata": {},
   "source": [
    "V desítkové soustavě je pro nás přirozené rozepsat číslo 459 jako:\n",
    "$459 = 4\\cdot 10^2 + 5\\cdot 10^1 + 9\\cdot 10^0 $\n",
    "\n",
    "Ve dvojkové soustavě je princip zcela analogický, jen máme k dispozici jen číslice 0 a 1 a základ je nyní 2. Např:\n",
    "\n",
    "$(1001)_2 = 1\\cdot 2^3 + 0\\cdot 2^2 + 0\\cdot 2^1 + 1\\cdot 2^0 = 8 + 1 = 9$"
   ]
  },
  {
   "cell_type": "markdown",
   "id": "d055a3f6-85f3-43a0-99c4-f294dd960ec4",
   "metadata": {},
   "source": [
    "Zkusme nyní napsat jednoduchou funkci, která převede číslo z libovolné soustavy (s číslicemi 0-9) do desítkové:"
   ]
  },
  {
   "cell_type": "code",
   "execution_count": null,
   "id": "e6a2c2a7-dd89-499b-b2b3-3d4f780b794d",
   "metadata": {},
   "outputs": [],
   "source": [
    "# TODO: Napište jednoduchou funkci, která provede tuto konverzi\n",
    "def convert(digits: str, base: int) -> int:\n",
    "    pass"
   ]
  },
  {
   "cell_type": "markdown",
   "id": "96307667-fedc-4f76-8284-cdc8593f1b6d",
   "metadata": {},
   "source": [
    "Ale lze samozřejmě použít i efektivnější nebo obecnější varianty, jako je `np.polyval` pro vyhodnocení polynomu.\n",
    "\n",
    "$a_3x^3 + a_2x^2 + a_1x^1 + a_0x^0$. Stačí zadat pole koeficientů a hodnotu $x$.\n",
    "\n",
    "Například:"
   ]
  },
  {
   "cell_type": "code",
   "execution_count": null,
   "id": "b311d49f-c91c-43ef-a5ac-7244c379f8d9",
   "metadata": {},
   "outputs": [],
   "source": [
    "coeffs = [int(d) for d in '1001']\n",
    "np.polyval(coeffs, 2)"
   ]
  },
  {
   "cell_type": "markdown",
   "id": "1fc69046-0e93-4c71-943d-669fae7e0a09",
   "metadata": {},
   "source": [
    "A nebo samozřejmě použít nepovinný argument `base` funkce `int`:"
   ]
  },
  {
   "cell_type": "code",
   "execution_count": null,
   "id": "0572cb0f-2d69-4235-a291-e632e615975a",
   "metadata": {},
   "outputs": [],
   "source": [
    "int('1001', base=2)"
   ]
  },
  {
   "cell_type": "markdown",
   "id": "46ff7a4f-0752-4db7-b0a4-b5a34f233d09",
   "metadata": {},
   "source": [
    "Procesor počítače \"nejsnáze\" pracuje s reprezentací čísel, pro kterou byl navržen. Například pro celá čísla používá k uložení standardně 4 B, což odpovídá sekvenci 32 nul nebo jedniček.  "
   ]
  },
  {
   "cell_type": "markdown",
   "id": "71f13241-428f-4580-9a77-ffeea23b02a4",
   "metadata": {},
   "source": [
    "### Celá nezáporná čísla"
   ]
  },
  {
   "cell_type": "markdown",
   "id": "6b80909e-01bc-4a4c-a028-3b07febb714c",
   "metadata": {},
   "source": [
    "Omezme se nejprve na celá nezáporná čísla (*unsigned integer 32 bit* = `uint32`) a ukažme si, jak jsou interně uložena:"
   ]
  },
  {
   "cell_type": "code",
   "execution_count": null,
   "id": "20991b37-04a6-4cfc-8a34-b33c3cbf88ba",
   "metadata": {},
   "outputs": [],
   "source": [
    "def print_uint32(x):\n",
    "    print(f'{x}: {x:032b}')\n",
    "\n",
    "for i in range(10):\n",
    "    print_uint32(np.uint32(i))"
   ]
  },
  {
   "cell_type": "markdown",
   "id": "221e19d4-ad24-4284-9d1f-89f8da87c9bd",
   "metadata": {},
   "source": [
    "Je zjevné, že maximální číslo, která takto dokážeme uložit, je $2 ^ {32} -1$:"
   ]
  },
  {
   "cell_type": "code",
   "execution_count": null,
   "id": "2854b737-a0e9-49f9-b391-4e2ff7005af9",
   "metadata": {},
   "outputs": [],
   "source": [
    "x = np.uint32(2 ** 32 - 1)\n",
    "print_uint32(x)"
   ]
  },
  {
   "cell_type": "markdown",
   "id": "fc5eed18-4d4a-4095-95ea-63f27815583a",
   "metadata": {},
   "source": [
    "Co se stane, pokud bychom zkusili číslo o 1 větší?"
   ]
  },
  {
   "cell_type": "code",
   "execution_count": null,
   "id": "8df9702d-f29f-4070-b68f-94fcf26994b5",
   "metadata": {
    "scrolled": true
   },
   "outputs": [],
   "source": [
    "x = np.uint32(2 ** 32)\n",
    "# Deprecation warning, nahraďte: x = np.array(2 ** 32).astype(np.uint32)\n",
    "\n",
    "print_uint32(x)"
   ]
  },
  {
   "cell_type": "code",
   "execution_count": null,
   "id": "1eb0bbd8-6ca9-4a5f-b7b8-a07fbf48b4d6",
   "metadata": {},
   "outputs": [],
   "source": [
    "x = np.uint32(2 ** 32 - 1)\n",
    "print(x)\n",
    "print(type(x))\n",
    "print(x + 1)\n",
    "print(type(x + 1))"
   ]
  },
  {
   "cell_type": "markdown",
   "id": "28269ae7-a511-4227-93ea-328ea9688f9d",
   "metadata": {},
   "source": [
    "### Celá čísla se znaménkem"
   ]
  },
  {
   "cell_type": "markdown",
   "id": "24a0f822-8ef7-4c2c-a40e-6c9066d30930",
   "metadata": {},
   "source": [
    "Někdy je samozřejmě nutné pracovat i se zápornými čísly. Jejich reprezentace je podobná ale odlišná. Mohlo by se zdát, že stačí vyhradit jeden bit na znaménko, takže bychom pak měli rozsah v kladných i záporných číslech stejný, ale poloviční oproti neznaménkové variantě. Tento způsob má však nevýhodu, protože bychom měli kladnou (+0) ale i zápornou nulu (-0).\n",
    "\n",
    "Reálně se používá trochu jiná varianta, která obsahuje nulu pouze jednu. Detaily popisovat nebudeme, ale lze je nalézt třeba na [Wikipedii](https://cs.wikipedia.org/wiki/Dvojkov%C3%BD_dopln%C4%9Bk]). Důsledkem toho je asymetrický rozsah:"
   ]
  },
  {
   "cell_type": "code",
   "execution_count": null,
   "id": "07b0f763-0371-4997-b931-0641107253c6",
   "metadata": {},
   "outputs": [],
   "source": [
    "for x in (np.int8, np.int16, np.int32, np.int64):\n",
    "    info = np.iinfo(x)\n",
    "    print(f'{x}, min = {info.min}, max = {info.max}')"
   ]
  },
  {
   "cell_type": "markdown",
   "id": "dbc3228c-ba1a-450a-a477-751e6c2dc98e",
   "metadata": {},
   "source": [
    "### Typ `int` v Pythonu"
   ]
  },
  {
   "cell_type": "markdown",
   "id": "4afbb51b-f567-4054-a191-272db31cb6d5",
   "metadata": {},
   "source": [
    "Základní typ `int` v Pythonu naopak žádná omezení na velikost nemá a jsme omezeni jen velikostí dostupné paměti:"
   ]
  },
  {
   "cell_type": "code",
   "execution_count": null,
   "id": "e1faa30e-2c68-4162-a7b0-2e74672bbd1b",
   "metadata": {},
   "outputs": [],
   "source": [
    "2 ** 1000"
   ]
  },
  {
   "cell_type": "code",
   "execution_count": null,
   "id": "676e336a-bf3b-4ada-8553-f6a3b12edcfb",
   "metadata": {},
   "outputs": [],
   "source": [
    "import sys\n",
    "for exp in range(0, 20):\n",
    "    number = 10 ** exp\n",
    "    print(f\"Velikost čísla {number:.0e}: {sys.getsizeof(number)} B\")"
   ]
  },
  {
   "cell_type": "markdown",
   "id": "5544e311-c561-4719-831d-f00e5e55e226",
   "metadata": {},
   "source": [
    "Navíc lze využít vektorizované operace (SIMD = Single Instruction Multiple Data):\n",
    "\n",
    "![SIMD](https://ftp.cvut.cz/kernel/people/geoff/cell/ps3-linux-docs/CellProgrammingTutorial/CellProgrammingTutorial.files/image008.jpg)\n",
    "\n",
    "Pro 512bitové registry (AVX-512) umíme zpracovat až 64 hodnot `np.int8` najednou.\n"
   ]
  },
  {
   "cell_type": "code",
   "execution_count": null,
   "id": "5646df8f-3563-4acb-9abd-56f90e216b54",
   "metadata": {},
   "outputs": [],
   "source": [
    "size = 100_000_000\n",
    "python_list = [i for i in range(size)]\n",
    "\n",
    "start = time.time()\n",
    "python_result = [x * 2 for x in python_list]\n",
    "end = time.time()\n",
    "print(f'Python int: {end - start:.3f} s')\n",
    "\n",
    "\n",
    "for dtype in [np.int8, np.int16, np.int32, np.int64]:\n",
    "    numpy_array = np.arange(size, dtype=dtype)\n",
    "    \n",
    "    start = time.time()\n",
    "    numpy_result = numpy_array * 2\n",
    "    end = time.time()\n",
    "    print(f'NumPy {dtype}: {end - start:.3f} s')"
   ]
  },
  {
   "cell_type": "markdown",
   "id": "16f2c86e-bc2c-47db-a265-5e3a88112fd3",
   "metadata": {},
   "source": [
    "## Reprezentace reálných čísel"
   ]
  },
  {
   "cell_type": "markdown",
   "id": "971f9285-5e6d-4b94-989f-8cd50dfb16ee",
   "metadata": {},
   "source": [
    "Vraťme se nejdříve opět k teorii a podívejme se, jak rozepsat číslo s desetinnou částí:\n",
    "\n",
    "$26.185 = 2\\cdot 10^1 + 6\\cdot 10^0 + 1\\cdot 10^{-1} + 8\\cdot 10^{-2} + 5\\cdot 10^{-3}$\n",
    "\n",
    "A analogicky pro dvojkovou soustavu:\n",
    "\n",
    "$(10.101)_2 = 1\\cdot 2^1 + 0\\cdot 2^0 + 1\\cdot 2^{-1} + 0\\cdot 2^{-2} + 1\\cdot 2^{-3} = 2 + 0 + 1/2 + 0 + 1/8 = 2.625$ "
   ]
  },
  {
   "cell_type": "markdown",
   "id": "ddcc3fed-9aa4-4289-af60-e2e0df2f3cd2",
   "metadata": {},
   "source": [
    "Reprezentace reálných čísel je výrazně složitější než u celých čísel, ale toto základní schéma platí a má jeden přímý důsledek. V počítači nelze *takto* reprezentovat čísla, která nelze složit jako konečný součet mocnin dvojky, např. i tak jednoduché číslo jako 0.1:"
   ]
  },
  {
   "cell_type": "code",
   "execution_count": null,
   "id": "a52b2244-0d89-4434-b33b-1899d5e8ae48",
   "metadata": {},
   "outputs": [],
   "source": [
    "print(f'{0.1:.100f}')"
   ]
  },
  {
   "cell_type": "markdown",
   "id": "a8bda3cf-b6bc-401b-ab18-fbdf949e8f4d",
   "metadata": {},
   "source": [
    "Pozn. Zde pro úplnost jen dodejme, že binární zápis čísla 0.1 je nekonečný periodický, $0.1 = (0.0\\overline{0011})_2$."
   ]
  },
  {
   "cell_type": "markdown",
   "id": "09acb4ed-fee5-410d-a679-c3a06c9edd90",
   "metadata": {},
   "source": [
    "Srovnejme s mnohem \"ošklivějším\" číslem v desítkové soustavě 0.0009765625, které ovšem odpovídá $2 ^{-10}$, a bude tedy uloženo přesně:"
   ]
  },
  {
   "cell_type": "code",
   "execution_count": null,
   "id": "0f291bc3-2d65-483e-8622-ebe82b7d010b",
   "metadata": {},
   "outputs": [],
   "source": [
    "print(f'{0.0009765625:.100f}')"
   ]
  },
  {
   "cell_type": "markdown",
   "id": "a73f5f32-7f36-4785-92ee-850d99df8901",
   "metadata": {},
   "source": [
    "Standardně Python vypisuje pouze prvních několik desetinných míst, takže si toho nemusíme vůbec všimnou, ale už některé základní operace nemusí fungovat zcela intuitivně. Srovnejme:"
   ]
  },
  {
   "cell_type": "code",
   "execution_count": null,
   "id": "ca9f36cc-1a81-4185-8b30-896d0e663c60",
   "metadata": {},
   "outputs": [],
   "source": [
    "print(0.1 + 0.2 == 0.3)\n",
    "print(0.5 + 0.25 == 0.75)"
   ]
  },
  {
   "cell_type": "markdown",
   "id": "42d865cb-e3bf-406e-b759-ecbfcfa6e0fc",
   "metadata": {},
   "source": [
    "Vzhledem k vysvětlení výše by nás výsledek ale neměl překvapit. Nepřesná aritmetika reálných čísel je implicitní vlastnost, o které je potřeba vědět a umět s ní nakládat.\n",
    "\n",
    "Jak tedy správně porovnávat reálná čísla? Musíme si nastavit limit $\\epsilon$, pod který považujete (pro danou aplikaci) dvě čísla za stejná.\n",
    "\n",
    "$a \\stackrel{def}{=} b \\leftrightarrow |a - b| < \\epsilon$\n",
    "\n",
    "Výše uvedené porovnání tedy lze nahradit takto:\n"
   ]
  },
  {
   "cell_type": "code",
   "execution_count": null,
   "id": "db5dde15-0fe5-4230-944b-1670b3c27838",
   "metadata": {},
   "outputs": [],
   "source": [
    "x = 0.1\n",
    "y = 0.2\n",
    "a = x + y\n",
    "b = 0.3\n",
    "\n",
    "eps = 10e-6\n",
    "\n",
    "abs(a - b) < eps"
   ]
  },
  {
   "cell_type": "markdown",
   "id": "8ccef90b-2baa-4c36-9488-7cbac77e0bb6",
   "metadata": {},
   "source": [
    "Zde by se mohlo zdát, že dvojková soustava je oproti \"naší\" desítkové velmi nepraktická. Ale ta má problémy úplně stejné. Jak bychom zapsali například jednu třetinu? Její zápis v desítkové soustavě obsahuje nekonečně mnoho cifer (0.333...). Ale v trojkové soustavě je zápis naopak velmi jednoduchý:\n",
    "\n",
    "$1/3 = 3^{-1} = (0.1)_3$\n"
   ]
  },
  {
   "cell_type": "markdown",
   "id": "945024e2-015a-41ea-b6a7-535523e0b2e3",
   "metadata": {},
   "source": [
    "## Typy pro reálná čísla v Pythonu\n",
    "\n",
    "Oproti celočíselným typům, kde byl rozdíl mezi standardním typem `int` a typy poskytovanými knihovnou NumPy, je u reálných čísel situace jednodušší.\n",
    "\n",
    "Typ `float` vlastnostmi odpovídá typu `np.float64`, dále NumPy ještě nabízí `np.float16`, `np.float32` a `np.float128`. Tyto typy se liší (z definice) množstvím paměti a s tím související přesností. V příkladech výše jsme tedy implicitně používali reprezentaci na 8 bytech.\n",
    "\n",
    "Tyto typy umí oproti celočíselným navíc i reprezentovat speciální hodnoty, jako je $\\pm\\infty, \\pm 0$ a NaN (= Not a Number)."
   ]
  },
  {
   "cell_type": "code",
   "execution_count": null,
   "id": "e463c07d-7409-4add-9b3d-08972b3e131c",
   "metadata": {},
   "outputs": [],
   "source": [
    "print(1 / np.inf)\n",
    "print(1 / -np.inf)\n",
    "print(np.float32(1) / 0)\n",
    "print(-np.float32(1) / 0)\n",
    "print(np.sqrt(-1))"
   ]
  },
  {
   "cell_type": "markdown",
   "id": "b2caa41e-3462-4f48-bc60-f47fbdc247cf",
   "metadata": {},
   "source": [
    "Jaké bude chování, pokud použijeme typ `float` ze standardního Pythonu a/nebo knihovnu `math`? Vyzkoušejte."
   ]
  },
  {
   "cell_type": "markdown",
   "id": "077bf879-0c75-4a83-b614-69f7fa5030d8",
   "metadata": {},
   "source": [
    "Zmínili jsme, že velikost typu souvisí s přesností. Jak se tedy reprezentují reálná čísla v počítači? Ukažme si zjednodušený popis, který se však od toho skutečného liší už jen v technických detailech. Pro jednoduchost si princip ukažme v desítkové soustavě.\n",
    "\n",
    "Uvažme např. dvě čísla: 12.04 a -0.0023. Obě můžeme přepsat do tzv. vědecké notace (znáte z kalkulaček):\n",
    "\n",
    "\n",
    "$$\n",
    "\\begin{aligned}\n",
    "12.04 &= +1.204 \\cdot 10^1\\\\\n",
    "-0.0023 &= -2.3 \\cdot 10^{-3}\n",
    "\\end{aligned}\n",
    "$$\n",
    "\n",
    "\n",
    "V Pythonu analogicky můžeme použít formátovací styl `e`:"
   ]
  },
  {
   "cell_type": "code",
   "execution_count": null,
   "id": "c232f08b-9684-4aa1-841a-6a4885a1ebee",
   "metadata": {},
   "outputs": [],
   "source": [
    "print(f'{12.04:e}')\n",
    "print(f'{-0.0023:e}')"
   ]
  },
  {
   "cell_type": "markdown",
   "id": "9769d29f-d2cf-4b27-91f4-eb1198195674",
   "metadata": {},
   "source": [
    "Reálně se však samozřejmě pro mantisu i exponent používá dvojková soustava.\n",
    "\n",
    "Musíme tedy vždy uložit znaménko (1 bit) a poté dle zvoleného typu máme určen počet bitů pro mantisu a exponent. Pro typ `np.float32` je to 23 bitů pro mantisu a 8 bitů pro exponent. Celkem 1 + 23 + 8 = 32 bitů = 4 B. Zjednodušeně řečeno, velikost mantisy určuje, kolik prvních číslic budeme mít reprezentováno správně a velikost exponentu udává, jak velká, resp. malá čísla umíme reprezentovat.\n",
    "\n",
    "Ukažme si nyní pár příkladů, kde budeme používat `np.float32`. Všechny zmíněné vlastnosti platí i pro ostatní reálné typy, liší se jen počtem bitů pro mantisu a exponent."
   ]
  },
  {
   "cell_type": "code",
   "execution_count": null,
   "id": "82753fc3-efb4-4aae-830d-f6ca1d978de3",
   "metadata": {},
   "outputs": [],
   "source": [
    "print(np.float32(12.56))\n",
    "print(np.float32(11.19e15))\n",
    "print(np.float32(-0.000_000_000_000_12))\n",
    "print(np.float32(123_456_789))"
   ]
  },
  {
   "cell_type": "markdown",
   "id": "71a5c24e-cf7c-4ae6-b6ae-22ea5f9133eb",
   "metadata": {},
   "source": [
    "### Absolutní a relativní chyba"
   ]
  },
  {
   "cell_type": "markdown",
   "id": "29d8cf7b-b51e-44f8-8385-21f830ee61d1",
   "metadata": {},
   "source": [
    "První tři příklady zobrazují očekáváné chování (byť víme, že žádné z těchto čísel nebude uloženo přesně), poslední příklad však ukazuje limit velikosti mantisy. Pro typ `np.float32` se udává, že umí zachovat zhruba prvních 6 dekadických číslic. Pozor, tento příklad ukazuje, že u přesnosti nejde nutně o desetinnou část. Jaká je velikost chyby?\n",
    "\n",
    "Rozlišme *absolutní* ($E_a$) a *relativní chybu* ($E_r$):\n",
    "\n",
    "$$\n",
    "\\begin{aligned}\n",
    "E_a &= |\\overline{x} - x|\\\\\n",
    "E_r &= \\frac{E_a}{x} = \\frac{|\\overline{x} - x|}{x}\n",
    "\\end{aligned}\n",
    "$$\n",
    "\n",
    "kde $x$ je přesná hodnota a $\\overline{x}$ její odhad.\n",
    "\n",
    "V našem příkladě tedy chyba vzniklá uložením toho čísla:"
   ]
  },
  {
   "cell_type": "code",
   "execution_count": null,
   "id": "a1f88740-9364-4573-8a6c-7bd680bb3308",
   "metadata": {},
   "outputs": [],
   "source": [
    "print(f'Absolutní chyba: {abs(123_456_790 - 123_456_789)}')\n",
    "print(f'Relativní chyba: {abs(123_456_790 - 123_456_789) / 123_456_789}')"
   ]
  },
  {
   "cell_type": "markdown",
   "id": "8a8f6cc9-8c6a-464b-8920-77be7890e2e8",
   "metadata": {},
   "source": [
    "Relativní velikost chyby reprezentace je v tomto případě poměrně malá. Pro úplnost dodejme, že uložení stejného čísla v celočíselném typu stejné velikosti by žádnou chybu nepřineslo."
   ]
  },
  {
   "cell_type": "markdown",
   "id": "0bb6b6ef-f566-43f1-8ea7-7f773c42390b",
   "metadata": {},
   "source": [
    "### Operace s reálnými typy\n",
    "\n",
    "Zatím jsme se pouze zaměřovali na uložení reálných čísel, ale většinou chceme s čísly dělat i nějaké další operace. Ukažme si nejjednodušší z nich, sčítání na příkladu, kdy se obě čísla řádově liší:"
   ]
  },
  {
   "cell_type": "code",
   "execution_count": null,
   "id": "bfbe8a10-acbc-4d79-8dd9-6503b06d775f",
   "metadata": {},
   "outputs": [],
   "source": [
    "x = np.float32(1e7)\n",
    "y = np.float32(0.5)\n",
    "print(f'{x + y:10f}')"
   ]
  },
  {
   "cell_type": "markdown",
   "id": "7567e83c-751e-42e6-a6eb-04322f34fb98",
   "metadata": {},
   "source": [
    "Ačkoliv zjevně nedostáváme matematicky správný výsledek, v rámci zvolené přesnosti je korektní. Porovnejme ovšem následující výrazy:"
   ]
  },
  {
   "cell_type": "code",
   "execution_count": null,
   "id": "dc9c343f-4d75-4302-9b2a-bfb8fe0be33c",
   "metadata": {},
   "outputs": [],
   "source": [
    "(x + y) + y, x + (y + y)"
   ]
  },
  {
   "cell_type": "markdown",
   "id": "ea6194a2-2281-4499-8a40-32b289e0c764",
   "metadata": {},
   "source": [
    "Tento příklad demonstruje jednu nepříjemnou vlastnost. **Sčítání reálných čísel v počítači není asociativní**. Záleží tedy na pořadí.\n",
    "\n",
    "Jak se s tím vypořádat? Přímočaré řešení je seřadit čísla dle jejich velikosti v absolutní hodnotě a pak sečíst, díky čemuž se nám mohou potenciálně menší čísla sečíst do větších, které už se ve výsledku projeví. Takový postup je ovšem pomalejší. Připomeňme si, že složitost řazení je ${\\mathcal O}(n\\log n)$, zatímco prostý součet je lineární, tedy ${\\mathcal O}(n)$.\n",
    "\n",
    "Srovnejme nyní pár následujích řešení, včetně naivního součtu:"
   ]
  },
  {
   "cell_type": "code",
   "execution_count": null,
   "id": "8b6f5a8d-691b-4f34-8490-07ac2722e391",
   "metadata": {},
   "outputs": [],
   "source": [
    "# TODO: Naprogramujte naivní součet (bez použití sum, pouze s for cyklem)\n",
    "def naive_sum(array):\n",
    "    pass"
   ]
  },
  {
   "cell_type": "code",
   "execution_count": null,
   "id": "0a47fc90-ba67-493f-a643-825b726eb2ac",
   "metadata": {},
   "outputs": [],
   "source": [
    "a = [x, y, y]"
   ]
  },
  {
   "cell_type": "code",
   "execution_count": null,
   "id": "823549db-ead7-4e73-81e2-d91d3b054b84",
   "metadata": {},
   "outputs": [],
   "source": [
    "print(sum(a))\n",
    "print(math.fsum(a))\n",
    "print(np.sum(a))\n",
    "print(naive_sum(a))"
   ]
  },
  {
   "cell_type": "markdown",
   "id": "9401034d-fff9-4b6f-8719-c73f004687f7",
   "metadata": {},
   "source": [
    "Ačkoliv všechny funkce implementují součet, každá používá jiný algoritmus, který se liší velikostí chyby a rychlostí. Detaily lze najít v dokumentaci. Ukažme si v následujícím příkladu větší srovnání (ChatGPT):"
   ]
  },
  {
   "cell_type": "code",
   "execution_count": null,
   "id": "7ab1a008-cc0d-4f20-8df1-87f1889a5b58",
   "metadata": {},
   "outputs": [],
   "source": [
    "size = 10 ** 6\n",
    "\n",
    "mean = 0.0\n",
    "std_dev = 1.0\n",
    "data_list_float64 = np.random.normal(mean, std_dev, size).tolist()\n",
    "data_list_float32 = [np.float32(x) for x in data_list_float64]\n",
    "data_array_float64 = np.array(data_list_float64, dtype=np.float64)\n",
    "data_array_float32 = np.array(data_list_float32, dtype=np.float32)\n",
    "\n",
    "def time_function(func, data):\n",
    "    start = time.time()\n",
    "    result = func(data)\n",
    "    end = time.time()\n",
    "    return result, end - start\n",
    "\n",
    "def naive_sum(data):\n",
    "    if isinstance(data[0], np.float32):\n",
    "        total = np.float32(0.0)\n",
    "    else:\n",
    "        total = 0\n",
    "    for value in data:\n",
    "        total += value\n",
    "    return total\n",
    "\n",
    "results = []\n",
    "errors = []\n",
    "data_types = [\n",
    "    ('list[float64]', data_list_float64),\n",
    "    ('list[float32]', data_list_float32),\n",
    "    ('array[float64]', data_array_float64),\n",
    "    ('array[float32]', data_array_float32),\n",
    "]\n",
    "functions = [\n",
    "    ('naive_sum', naive_sum),\n",
    "    ('sum', sum),\n",
    "    ('math.fsum', math.fsum),\n",
    "    ('np.sum', np.sum),\n",
    "]\n",
    "\n",
    "reference_value, _ = time_function(math.fsum, data_list_float64)\n",
    "\n",
    "for dtype_label, data in data_types:\n",
    "    for func_label, func in functions:\n",
    "        result, time_taken = time_function(func, data)\n",
    "        relative_error = abs((result - reference_value) / reference_value) if reference_value != 0 else 0\n",
    "        results.append({'Typ': dtype_label, 'Funkce': func_label, 'Čas (s)': time_taken})\n",
    "        errors.append({'Typ': dtype_label, 'Funkce': func_label, 'Relativní chyba': relative_error})\n",
    "\n",
    "results_df = pd.DataFrame(results)\n",
    "results_df = results_df.pivot(index='Funkce', columns='Typ', values='Čas (s)')\n",
    "\n",
    "errors_df = pd.DataFrame(errors)\n",
    "errors_df = errors_df.pivot(index='Funkce', columns='Typ', values='Relativní chyba')\n",
    "\n",
    "reference_time = results_df.loc['sum', 'list[float64]']\n",
    "normalized_results_df = results_df / reference_time\n",
    "\n",
    "print('Normalizavaný čas (relativně k \\'sum\\' na \\'list[float64]\\'):')\n",
    "print(normalized_results_df)\n",
    "print()\n",
    "print('Relativní chyby (ve srovnání s \\'math.fsum\\' na \\'list[float64]\\'):')\n",
    "print(errors_df)"
   ]
  },
  {
   "cell_type": "markdown",
   "id": "db15dd40-3199-4390-9013-c11ca9069ee0",
   "metadata": {},
   "source": [
    "Dle očekávání se ukazuje, že `np.sum` je výrazně rychlejší při práci s NumPy poli (SIMD). Naopak ostatní funkce pracují lépe se standardními seznamy (`list`) z Pythonu. Nejvyšší přesnosti dosahuje `math.fsum`, ale s výjimkou naivního řešení dávají pro oba typy ostatní funkce dobré výsledky. Naivní přístup je vhodný pouze pro edukativní účely.\n",
    "\n"
   ]
  },
  {
   "cell_type": "markdown",
   "id": "e9e60a4a-59f9-4630-9e10-a50388ef9c27",
   "metadata": {},
   "source": [
    "## Limity velikosti reálných typů\n",
    "\n",
    "V předchozích příkladech jsme se zaměřovali hlavně na mantisu, nyní se podívejme, jakou roli hraje velikost exponentu."
   ]
  },
  {
   "cell_type": "code",
   "execution_count": null,
   "id": "3eb00db3-bedb-4a9e-935c-2fcfa4d3287e",
   "metadata": {},
   "outputs": [],
   "source": [
    "finfo_float32 = np.finfo(np.float32)\n",
    "print(\"Největší hodnota:\", finfo_float32.max)\n",
    "print(\"Nejmenší hodnota:\", finfo_float32.min)\n",
    "print(\"Nejmenší kladné číslo:\", finfo_float32.tiny)"
   ]
  },
  {
   "cell_type": "markdown",
   "id": "8748d515-4b3d-4cf5-ad14-19e2615d9262",
   "metadata": {},
   "source": [
    "Ukažme si příklad, kde může hrát limit na velikost čísla roli. Podívejme se na výpočet geometrického průměru.\n",
    "\n",
    "$$\n",
    "G(x_1,\\ldots, x_n) = \\sqrt[n]{\\prod_{i = 1}^n x_i}\n",
    "$$\n",
    "\n",
    "Zkusme nyní spočítat geometrický průměr 100 náhodných čísel mezi 0 a 10:"
   ]
  },
  {
   "cell_type": "code",
   "execution_count": null,
   "id": "40581d72-6c90-4e3a-ab8d-44de23f1827c",
   "metadata": {},
   "outputs": [],
   "source": [
    "N = 100\n",
    "array_big = np.random.sample(N).astype(np.float32) * 10"
   ]
  },
  {
   "cell_type": "code",
   "execution_count": null,
   "id": "22b115ab-9967-47dc-82cc-ebca1ce1c784",
   "metadata": {},
   "outputs": [],
   "source": [
    "# TODO: Doplňte kód pro výpočet geometrického průměru užitím standardních funkcí NumPy a použijte jej na array_big\n",
    "\n",
    "def gmean(array):\n",
    "    pass\n",
    "\n",
    "gmean(array_big)"
   ]
  },
  {
   "cell_type": "markdown",
   "id": "71a9f9ea-d842-464b-89b5-1d676b033008",
   "metadata": {},
   "source": [
    "Vyzkoušejme stejný algoritmus pro čísla mezi 0 a 0.1:"
   ]
  },
  {
   "cell_type": "code",
   "execution_count": null,
   "id": "a6df3c79-d02b-4b8b-8981-dc08668cb4d7",
   "metadata": {},
   "outputs": [],
   "source": [
    "array_small = np.random.sample(N).astype(np.float32) / 10\n",
    "print(np.any(array_small == 0))\n",
    "gmean(array_small)"
   ]
  },
  {
   "cell_type": "code",
   "execution_count": null,
   "id": "4cac1aa8-2fa7-4017-a56a-efe4d9f78c7b",
   "metadata": {},
   "outputs": [],
   "source": []
  },
  {
   "cell_type": "markdown",
   "id": "15ceca0d-6dfc-42f8-b0b1-15e90792c1bb",
   "metadata": {},
   "source": [
    "Jak tedy spočítat geometrický průměr? Může nám pomoci logaritmická transformace, která převádí násobení na sčítání. Vzpomeňme si, že platí tyto vztahy:\n",
    "\n",
    "$$\n",
    "\\begin{aligned}\n",
    "e^{\\ln(x)} &= x\\\\\n",
    "\\ln{x^k} &= k\\ln{x}\\\\\n",
    "\\ln{xy} &= \\ln{x} + \\ln{y}\n",
    "\\end{aligned} \n",
    "$$\n",
    "\n",
    "Odtud můžeme náš vzorec pro geometrický průměr přepsat na následující verzi:\n",
    "\n",
    "$$\n",
    "G(x_1,\\ldots, x_n) = \\sqrt[n]{\\prod_{i = 1}^n x_i} = \\prod_{i = 1}^n (x_i)^{1/n} = \\exp{\\left(\\prod_{i = 1}^n \\ln(x_i)^{1/n}\\right)} = \\exp{\\left(\\frac{1}{n}\\sum_{i=1}^n \\ln{x_i}\\right)}\n",
    "$$\n",
    "\n",
    "V kódu pak:"
   ]
  },
  {
   "cell_type": "code",
   "execution_count": null,
   "id": "9aee1727-fd0f-40ef-90d2-a7454f605298",
   "metadata": {},
   "outputs": [],
   "source": [
    "#TODO Napište funkci gmean, která spočítá geometrický průměr dle vzorce výše:\n",
    "def gmean_log(array):\n",
    "    pass"
   ]
  },
  {
   "cell_type": "markdown",
   "id": "3aa2a88e-cfda-43f4-8eb0-9621d65c91f2",
   "metadata": {},
   "source": [
    "Vyzkoušejme nyní pro oba naše příklady:"
   ]
  },
  {
   "cell_type": "code",
   "execution_count": null,
   "id": "275f7114-11fe-4287-824b-fc239eb39e9a",
   "metadata": {},
   "outputs": [],
   "source": [
    "print(gmean_log(array_big))\n",
    "print(gmean(array_small))"
   ]
  },
  {
   "cell_type": "markdown",
   "id": "a1cbe82c-ac5b-4b44-8a4c-63e56be21cfe",
   "metadata": {},
   "source": [
    "Stejného výsledku pak docílíme využitím vhodné funkce, zde nám pomůže knihovny SciPy:"
   ]
  },
  {
   "cell_type": "code",
   "execution_count": null,
   "id": "945aa46b-4799-44c0-9ac0-7e5b776fa050",
   "metadata": {},
   "outputs": [],
   "source": [
    "print(scipy.stats.gmean(array_big))\n",
    "print(scipy.stats.gmean(array_small))"
   ]
  },
  {
   "cell_type": "markdown",
   "id": "0ad4b762-c509-475f-95b8-a96c53c0d108",
   "metadata": {},
   "source": [
    "Nyní, když víme, jak se pracuje s reálnými čísly v počítači a jaká úskalí to přináší, můžeme se vrátit zpátky k úvodnímu příkladu."
   ]
  },
  {
   "cell_type": "markdown",
   "id": "dc2d560e-cf30-4af9-9277-485d45dd0e4a",
   "metadata": {},
   "source": [
    "### Integrál - analýza chyby\n",
    "\n",
    "Připomeňme si, že jsme pro výpočet $I_n$ používali rekurentní vzorec:\n",
    "\n",
    "$$I_n = 1 - nI_{n - 1}$$\n",
    "\n",
    "Zkusme si nyní udělat tento rozvoj pro více členů:\n",
    "\n",
    "$$I_n = 1 - nI_{n - 1} = 1 - n[1 - (n-1)I_{n - 2}] = 1 - n\\{1 - (n-1)[1 - (n - 2)I_{n - 3}]\\}$$\n",
    "\n",
    "Náš výpočet začíná s hodnoutou $I_0 = 1 - 1/e$. Už víme, že toto číslo bude uloženo s nějakou, byť velmi malou chybou na vstupu. Dodejme navíc, že jsme implicitně používali typ `float`, který má přesnost na zhruba 16 desítkových číslic.\n",
    "\n",
    "$I_n$ však ve svém výpočtu obsahuje člen $n!\\cdot I_0$. Kolik je $30!$?"
   ]
  },
  {
   "cell_type": "code",
   "execution_count": null,
   "id": "ba4f1ae1-88da-49ca-a118-9bca380a60a4",
   "metadata": {},
   "outputs": [],
   "source": [
    "# TODO: Jak spočítat snadno faktoriál zadaného čísla?"
   ]
  },
  {
   "cell_type": "markdown",
   "id": "b9aa1f4a-98b1-4a03-b52f-c7f2397a512a",
   "metadata": {},
   "source": [
    "Při násobení takto velkým číslem už může byť velmi malá chyba na začátku dominovat výsledku. Pomohl by nám větší typ `np.float128`?"
   ]
  },
  {
   "cell_type": "code",
   "execution_count": null,
   "id": "bdefce67-0e3b-4535-8ace-86247bcd6441",
   "metadata": {},
   "outputs": [],
   "source": [
    "# TODO Nahraďte kód z úvodu, aby obsahoval jako typ np.float128"
   ]
  },
  {
   "cell_type": "markdown",
   "id": "094c28cf-f81e-487a-b5f1-092c4cb8cf0f",
   "metadata": {},
   "source": [
    "### Rekurentní řešení (2)\n",
    "\n",
    "Správné řešení zde spočívá v otočení rekurentního vztahu:\n",
    "\n",
    "$$\n",
    "\\begin{aligned}\n",
    "I_n &= 1 - nI_{n - 1}\\\\\n",
    "I_{n - 1} &= \\frac{1 - I_n}{n} \n",
    "\\end{aligned}\n",
    "$$\n",
    "\n",
    "Nyní ale pro výpočet $I_{30}$ potřebujeme ale znát hodnotu $I_{31}$. Zjevně z charakteru původní funkce $x^ne^{x-1}$ bude větší $n$ na intervalu $[0, 1]$ znamenat nižší hodnoty funkce. Zkusme tedy zvolit např. $I_{35} = 0$."
   ]
  },
  {
   "cell_type": "code",
   "execution_count": null,
   "id": "b8eda22a-4379-4f1b-b652-ea6f68c00ea1",
   "metadata": {},
   "outputs": [],
   "source": [
    "I = np.empty(36, dtype=np.float64)\n",
    "I[35] = 0\n",
    "for n in reversed(range(30, 36)):\n",
    "    I[n - 1] = (1 - I[n]) / n\n",
    "\n",
    "print(I[30])"
   ]
  },
  {
   "cell_type": "markdown",
   "id": "d37995da-9727-490b-80db-e02f8dce560d",
   "metadata": {},
   "source": [
    "Proč je toto řešení vhodnější? V každém kroku se zde totiž chyba na vstupu dělí, nikoliv násobí jako v předešlém způsobu. Samozřejmě nejlepším řešením bude použít nějakou existující funkci pro numerickou integraci, zde např. z knihovny SciPy: "
   ]
  },
  {
   "cell_type": "code",
   "execution_count": null,
   "id": "0430285e-52d2-4441-ae96-6c620741925d",
   "metadata": {},
   "outputs": [],
   "source": [
    "result = scipy.integrate.quad(lambda x: x ** 30 * np.exp(x - 1), 0, 1)[0]\n",
    "print(result)"
   ]
  },
  {
   "cell_type": "markdown",
   "id": "539c617f-23fc-46cf-a57f-e970b4dfa684",
   "metadata": {},
   "source": [
    "Srovnejme tento výsledek s výsledkem dosaženým naším postupem, rozdíl je zde zanedbatelný:"
   ]
  },
  {
   "cell_type": "code",
   "execution_count": null,
   "id": "a9ce2135-1de1-4b60-9799-15c557576275",
   "metadata": {},
   "outputs": [],
   "source": [
    "print(abs(result - I[30]))"
   ]
  },
  {
   "cell_type": "markdown",
   "id": "e71506d2-2d88-4dc2-8a8f-053d55633e71",
   "metadata": {},
   "source": [
    "Výsledek je o to zajímavější, že zatímco v první variantě byla chyba na vstupu menší než $10^{-16}$, ve druhé variantě, kdy jsme začínali s $I_{35} = 0$ je chyba výrazně větší (viz výpočet níže). Přesto jsme dostali správný výsledek."
   ]
  },
  {
   "cell_type": "code",
   "execution_count": null,
   "id": "7fb3da6d-1571-4c6c-9355-d7be4e53715b",
   "metadata": {},
   "outputs": [],
   "source": [
    "scipy.integrate.quad(lambda x: x ** 35 * np.exp(x - 1), 0, 1)[0]"
   ]
  },
  {
   "cell_type": "markdown",
   "id": "768954c1-fbaa-423b-af4f-394c56d7ce05",
   "metadata": {},
   "source": [
    "Závěrem dodejme, že lze použít třeba i jednoduchou lichoběžníkovou metodu, kterou znáte z matematiky, přímo z NumPy.\n",
    "\n",
    "![Lichoběžníková metoda](https://www.bragitoff.com/wp-content/uploads/2015/08/TrapezoidRule1.png)\n",
    "\n",
    "Přesnost výsledku můžeme pak ovlivnit počtem dělicích bodů intervalu:"
   ]
  },
  {
   "cell_type": "code",
   "execution_count": null,
   "id": "64a964ab-69f7-4a54-907d-d70765436c9a",
   "metadata": {},
   "outputs": [],
   "source": [
    "N = 100\n",
    "xs = np.linspace(0, 1, N)\n",
    "np.trapz(xs ** 30 * np.exp(xs - 1), xs)"
   ]
  },
  {
   "cell_type": "markdown",
   "id": "e992fe12-4f51-4d8c-b428-a20eb35b516d",
   "metadata": {},
   "source": [
    "## Dodatek - přesné výpočty v Pythonu\n",
    "\n",
    "Pokud bychom skutečně potřebovali reprezentovat reálná čísla přesně, nabízí k tomu Python modul `decimal`. Vyzkoušejme:"
   ]
  },
  {
   "cell_type": "code",
   "execution_count": null,
   "id": "8d3a8770-6285-421a-9957-d4a50d19b9ab",
   "metadata": {},
   "outputs": [],
   "source": [
    "decimal.Decimal('0.1') + decimal.Decimal('0.2') == decimal.Decimal('0.3')"
   ]
  },
  {
   "cell_type": "markdown",
   "id": "a7c7168e-cd66-4a4b-9a7c-c4145dd497f7",
   "metadata": {},
   "source": [
    "Daní bude ale samozřejmě množství paměti a rychlost operací. Přesnost lze explicitně nastavit:"
   ]
  },
  {
   "cell_type": "code",
   "execution_count": null,
   "id": "4dc7445f-e59a-4d2a-87f9-8fc5834b4dc2",
   "metadata": {},
   "outputs": [],
   "source": [
    "init = decimal.getcontext().prec\n",
    "print(f'Původní přesnost: {init}')\n",
    "for prec in [init, 5, 100]:\n",
    "    decimal.getcontext().prec = prec\n",
    "    x = decimal.Decimal(1) / 3    \n",
    "    print(f'Hodnota: {x}')\n",
    "    print(f'Velikost: {sys.getsizeof(x)}')\n",
    "\n",
    "# Nastavme zpátky iniciální hodnotu\n",
    "decimal.getcontext().prec = init"
   ]
  },
  {
   "cell_type": "code",
   "execution_count": null,
   "id": "1b0c73db-fc2f-40ad-af68-a605ff3f0351",
   "metadata": {},
   "outputs": [],
   "source": [
    "array = np.random.sample(10 ** 6)\n",
    "decimal_array = [decimal.Decimal(x) for x in array]"
   ]
  },
  {
   "cell_type": "code",
   "execution_count": null,
   "id": "a3fafb01-a694-4edf-a1f5-b5b488720412",
   "metadata": {},
   "outputs": [],
   "source": [
    "sum(decimal_array), np.sum(array)"
   ]
  },
  {
   "cell_type": "code",
   "execution_count": null,
   "id": "69495e49-efdc-4386-b8b1-5ec695de594c",
   "metadata": {},
   "outputs": [],
   "source": [
    "%%timeit\n",
    "sum(decimal_array)"
   ]
  },
  {
   "cell_type": "code",
   "execution_count": null,
   "id": "0c5eac7b-0ae5-4385-8883-65a52beb1121",
   "metadata": {},
   "outputs": [],
   "source": [
    "%%timeit\n",
    "np.sum(array)"
   ]
  },
  {
   "cell_type": "code",
   "execution_count": null,
   "id": "16287cb0-0d5b-4384-a368-839645b32135",
   "metadata": {},
   "outputs": [],
   "source": []
  }
 ],
 "metadata": {
  "kernelspec": {
   "display_name": "Python 3 (ipykernel)",
   "language": "python",
   "name": "python3"
  },
  "language_info": {
   "codemirror_mode": {
    "name": "ipython",
    "version": 3
   },
   "file_extension": ".py",
   "mimetype": "text/x-python",
   "name": "python",
   "nbconvert_exporter": "python",
   "pygments_lexer": "ipython3",
   "version": "3.13.1"
  }
 },
 "nbformat": 4,
 "nbformat_minor": 5
}
