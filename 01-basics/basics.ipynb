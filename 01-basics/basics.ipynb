{
 "cells": [
  {
   "cell_type": "markdown",
   "id": "86513788-8952-43d0-9718-03b4e45927f3",
   "metadata": {},
   "source": [
    "# Od tabule k počítači"
   ]
  },
  {
   "cell_type": "code",
   "execution_count": null,
   "id": "cfd8d4bc-ef4d-4a43-b1c7-7df74d714e60",
   "metadata": {},
   "outputs": [],
   "source": []
  }
 ],
 "metadata": {
  "kernelspec": {
   "display_name": "Python 3 (ipykernel)",
   "language": "python",
   "name": "python3"
  },
  "language_info": {
   "codemirror_mode": {
    "name": "ipython",
    "version": 3
   },
   "file_extension": ".py",
   "mimetype": "text/x-python",
   "name": "python",
   "nbconvert_exporter": "python",
   "pygments_lexer": "ipython3",
   "version": "3.13.1"
  }
 },
 "nbformat": 4,
 "nbformat_minor": 5
}
