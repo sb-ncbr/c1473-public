{
 "cells": [
  {
   "cell_type": "markdown",
   "metadata": {},
   "source": [
    "<style> li { margin-bottom: 1em; } code { font-family: Consolas, monospace; } h2 { margin-top: 1em; } table { width: 100%; } td, th { border: none!important; } </style>\n",
    "\n",
    "# Optimalizace\n",
    "Optimalizační metody jsou pro Python dostupné v několika různých knihovnách. My budeme používat knihovnu SciPy."
   ]
  },
  {
   "cell_type": "markdown",
   "metadata": {},
   "source": [
    "<style> li { margin-bottom: 1em; } code { font-family: Consolas, monospace; } h2 { margin-top: 1em; } table { width: 100%; } td, th { border: none!important; } </style>\n",
    "\n",
    "<hr>\n",
    "\n",
    "## Cvičení 1\n",
    "\n",
    "Níže máte připravený kód, který optimalizuje \"hodnou\" objektivní funkci x^2 + y^2 pomocí simplexové metody (Nelder-Mead), vizualizuje průběh optimalizace a oznámí počet iterací. \n",
    "\n",
    "- Najděte lokální minimum této \"hodné\" objektivní funkce metodami Nelder-Mead, CG a L-BFGS-B. Chovají se tyto metody očekávaně dle teorie? Jak se mění počet kroků potřebných ke konvergenci? Jak velký je rozdíl mezi nejlepší a nejhorší metodou?\n",
    "\n",
    "- Implementujte složitější objektivní funkci (např. Rosenbrockovu) a opět najděte její lokální minimum. Jak se metody chovají na této složitější funkci? Jaký je rozdíl mezi nejlepší a nejhorší metodou?\n",
    "\n",
    "- Zkuste změnit počíteční bod lokální optimalizace. Má změna na počet kroků vliv?"
   ]
  },
  {
   "cell_type": "code",
   "execution_count": null,
   "metadata": {},
   "outputs": [],
   "source": [
    "import numpy as np\n",
    "from bokeh.plotting import figure, show\n",
    "from bokeh.palettes import Sunset8\n",
    "from bokeh.io import output_notebook\n",
    "from scipy.optimize import minimize\n",
    "\n",
    "# define objective function\n",
    "# test functions available at https://en.wikipedia.org/wiki/Test_functions_for_optimization\n",
    "def objective_function(x):\n",
    "    return x[0]**2 + x[1]**2\n",
    "\n",
    "# run optimization\n",
    "def save(x):\n",
    "    global progess\n",
    "    progress.append(x)\n",
    "\n",
    "# available optimization methods are listed at https://docs.scipy.org/doc/scipy/reference/generated/scipy.optimize.minimize.html#scipy.optimize.minimize \n",
    "start_point = np.array([-1., 1.])\n",
    "progress = [start_point]\n",
    "minimize(objective_function, \n",
    "         x0=start_point,\n",
    "         method=\"Nelder-Mead\",\n",
    "         callback=save)\n",
    "print(f\"The optimization ended after {len(progress)-1} steps.\")\n",
    "\n",
    "# create figure\n",
    "x_range = (-1,1)\n",
    "y_range = (-1,1)\n",
    "grid_points = 200\n",
    "x, y = np.meshgrid(np.linspace(x_range[0], \n",
    "                               x_range[1], \n",
    "                               grid_points), \n",
    "                   np.linspace(y_range[0],\n",
    "                               y_range[1], \n",
    "                               grid_points)) \n",
    "z = objective_function((x, y))\n",
    "p = figure(width=550,\n",
    "           height=550, \n",
    "           x_range=x_range,\n",
    "           y_range=y_range)\n",
    "levels = np.linspace(np.min(z),\n",
    "                     np.max(z), \n",
    "                     grid_points)\n",
    "contour_renderer = p.contour(x, y, z, levels, fill_color=Sunset8, line_color=\"black\")\n",
    "p.scatter([x[0] for x in progress],\n",
    "          [x[1] for x in progress],\n",
    "          color=\"red\")\n",
    "p.line([x[0] for x in progress],\n",
    "       [x[1] for x in progress],\n",
    "       color=\"red\")\n",
    "output_notebook()\n",
    "show(p)\n"
   ]
  },
  {
   "cell_type": "markdown",
   "metadata": {},
   "source": [
    "<style> li { margin-bottom: 1em; } code { font-family: Consolas, monospace; } h2 { margin-top: 1em; } table { width: 100%; } td, th { border: none!important; } </style>\n",
    "\n",
    "<hr>\n",
    "\n",
    "## Cvičení 2\n",
    "Níže máte připravený kód, který vykreslí na graf body z měření.\n",
    "\n",
    "\n",
    "- Najděte pomocí optimalizace přímku, která co nejlépe proloží dané body. Využíjte kód z předchozího cvičení. Zkuste různé optimalizační metody. Liší se výsledky?\n",
    "\n",
    "- Implementuje další objektivní funkci (např. průměrná absolutní odchylka, RMSD) a optimalizujte problém. Liší se výsledky?"
   ]
  },
  {
   "cell_type": "code",
   "execution_count": null,
   "metadata": {},
   "outputs": [],
   "source": [
    "x = np.array([x for x in range(100)])\n",
    "y = np.array([3.42, -2.21, 0.28, 4.95, 3.53, 3.49, 4.98, 13.42, 10.96, 9.24, 11.52, 19.64, 13.4, 21.15, 15.51, 16.9, 26.13, 23.36, 30.09, 23.75, 24.25, 29.1, 34.93, 28.53, 36.15, 32.68, 37.08, 40.85, 43.44, 38.66, 41.22, 41.4, 45.09, 49.67, 50.39, 52.13, 50.85, 54.51, 48.36, 55.27, 51.61, 51.4, 53.65, 59.62, 57.22, 56.2, 61.79, 60.89, 63.44, 69.81, 70.15, 69.22, 66.8, 75.57, 68.59, 74.62, 79.52, 76.25, 74.44, 75.0, 78.37, 82.35, 79.0, 82.98, 89.64, 87.41, 89.63, 91.89, 94.71, 93.02, 94.56, 96.57, 96.06, 94.57, 97.12, 99.21, 102.96, 104.77, 109.31, 105.91, 103.85, 110.66, 108.93, 112.67, 110.57, 112.41, 111.59, 118.78, 123.01, 121.87, 124.07, 121.67, 123.95, 128.5, 126.98, 130.93, 131.44, 126.9, 128.09, 133.53])\n",
    "\n",
    "#def objective_function(parameters, x, y):\n",
    "#    ...\n",
    "\n",
    "intercept = 0\n",
    "slope = 1\n",
    "\n",
    "#res = minimize(objective_function, \n",
    "#               x0=...,\n",
    "#               args=(x,y),\n",
    "#               method=...)\n",
    "#\n",
    "#intercept,slope = res.x\n",
    "\n",
    "print(f\"Measure points are best represented by a straight line y={intercept}+{slope}*x\")\n",
    "p = figure(width=550,\n",
    "           height=550, \n",
    "           x_range=(0,100),\n",
    "           y_range=(-5, 135))\n",
    "p.scatter(x,\n",
    "          y,\n",
    "          color=\"red\")\n",
    "p.line(x,\n",
    "       [intercept + slope * value for value in x],\n",
    "       color=\"blue\")\n",
    "\n",
    "show(p)"
   ]
  }
 ],
 "metadata": {
  "kernelspec": {
   "display_name": "base",
   "language": "python",
   "name": "python3"
  },
  "language_info": {
   "codemirror_mode": {
    "name": "ipython",
    "version": 3
   },
   "file_extension": ".py",
   "mimetype": "text/x-python",
   "name": "python",
   "nbconvert_exporter": "python",
   "pygments_lexer": "ipython3",
   "version": "3.11.6"
  }
 },
 "nbformat": 4,
 "nbformat_minor": 2
}
