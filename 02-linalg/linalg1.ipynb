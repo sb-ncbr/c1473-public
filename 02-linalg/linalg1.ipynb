{
 "cells": [
  {
   "cell_type": "markdown",
   "id": "6daf6058-b8ff-4261-acc4-24c95b4271f7",
   "metadata": {},
   "source": [
    "# Reprezentace matic a vektorů, základní operace lineární algebry"
   ]
  },
  {
   "cell_type": "markdown",
   "id": "2dcc2b8a-52fd-48b6-b64e-a07cbac4ec06",
   "metadata": {},
   "source": [
    "## Násobení matic a jeho očekávaná rychlost\n",
    "\n",
    "Násobení matic vyžaduje $2 N^3$ aritmetických operací provedených nad $2 N^2$ číslech. Je ideální pro současné CPU, jejichž aritmetický výkon výrazně předbíhá rychlost paměti, mohou na něm dosáhnout téměř svého teoretického výkonu.\n",
    "Tak to zkusme. "
   ]
  },
  {
   "cell_type": "code",
   "execution_count": null,
   "id": "606389b3-01e0-4e8b-98cd-7b88a7263fc7",
   "metadata": {},
   "outputs": [],
   "source": [
    "# Pomocná funkce pro generování náhodné matice\n",
    "import random\n",
    "def randmatrix(dim):\n",
    "    return [ [ random.random() for i in range(dim) ] for j in range(dim) ]"
   ]
  },
  {
   "cell_type": "code",
   "execution_count": null,
   "id": "594c6d9d-878d-4ef2-8df1-b5a04d3adbfb",
   "metadata": {},
   "outputs": [],
   "source": [
    "# velikost pokusné matice\n",
    "N = 300\n",
    "\n",
    "# vygenerujeme náhodné vstupy\n",
    "A=randmatrix(N)\n",
    "B=randmatrix(N)"
   ]
  },
  {
   "cell_type": "code",
   "execution_count": null,
   "id": "b957f106-f99e-4aed-ab40-9c2c8ffe4832",
   "metadata": {},
   "outputs": [],
   "source": [
    "# budeme měřit, jak dlouho výpočet trvá\n",
    "from time import time"
   ]
  },
  {
   "cell_type": "markdown",
   "id": "c851e63d-5159-4877-9f88-e2eb408acf54",
   "metadata": {},
   "source": [
    "### Vlastní implementace\n",
    "\n",
    "Na místo označené v následující buňce `# TODO: C = AB` \n",
    "dopište vlastní jednoduchý kód pro maticové násobení"
   ]
  },
  {
   "cell_type": "code",
   "execution_count": null,
   "id": "26e2ffc7-5730-4c75-b283-4b21db2bae58",
   "metadata": {},
   "outputs": [],
   "source": [
    "# inicializace prázdného výstupu\n",
    "C=[ [ 0. for i in range(N) ] for j in range(N) ]\n",
    "\n",
    "start = time()\n",
    "\n",
    "# TODO: C = AB\n",
    "# ODOT\n",
    "\n",
    "\n",
    "end = time()\n",
    "measured_flops = 2 * N**3 / (end-start)\n",
    "\n",
    "print(f'Násobení matic řádu {N} trvalo {end-start : .2f} s, tedy počítáme s výkonem { measured_flops/ 1e9 : .3f} GFLOPS')\n"
   ]
  },
  {
   "cell_type": "markdown",
   "id": "098c9a33-b7d2-4c88-9168-570dd7319fa2",
   "metadata": {},
   "source": [
    "### Očekávaná rychlost \n",
    "\n",
    "Na celkový výkon CPU pro aritmetické operace má vliv jeho frekvence a řada faktorů konkrétní architektury, zejména šířka slova aritmetické jednotky, tj. kolik operací vykonává současně (zpravidla 256 nebo 512 bitů, tj. 4 nebo 8 operací), počet cyklů potřebných k dokončení jedné instrukce (_cycles per instruction_), a přítomnost speciální instrukce _fused multiply add_, současného provedení součtu a násobení.\n",
    "\n",
    "U dnešních CPU můžeme čekat **40-100 GFLOPS** pro jedno jádro."
   ]
  },
  {
   "cell_type": "code",
   "execution_count": null,
   "id": "470440a9-6ab9-4009-9221-dcd0cc3d28d1",
   "metadata": {},
   "outputs": [],
   "source": [
    "# linuxová magie: informace vyčteme z /proc/cpuinfo a zpracujeme\n",
    "\n",
    "from subprocess import check_output\n",
    "mhz = max([ float(f) for f in check_output(['grep','cpu MHz','/proc/cpuinfo']).split()[3::4] ])\n",
    "flags = str(check_output(\"grep 'flags' /proc/cpuinfo | head -1\",shell=True)).split()[1:]\n",
    "avx = 128\n",
    "if 'avx2' in flags: avx=256\n",
    "if 'avx512f' in flags: avx=512\n",
    "fma = 2 if 'fma' in flags else 1\n",
    "cpi = .5 # XXX: pro všechny moderní CPU\n",
    "flops_cpuinfo = mhz * 1e6 / cpi * avx/64 * fma\n",
    "\n",
    "model = \" \".join(str(check_output(\"grep 'model name' /proc/cpuinfo | head -1\",shell=True)).split()[2:-1])\n",
    "\n",
    "print(f'Očekávaný výkon jednoho jádra tohoto procesoru ({model}) je {flops_cpuinfo / 1e9 :.0f} GFLOPS')"
   ]
  },
  {
   "cell_type": "markdown",
   "id": "d60ab7a6-ff11-4331-82ad-283b5e67d623",
   "metadata": {},
   "source": [
    "### Srovnání\n",
    "\n",
    "Pravděpodobně zjišťujejme, že přímočará implementace násobení matic v Pythonu je více než 1000x promalejší, než bychom u daného CPU očekávali.\n",
    "\n",
    "Python je interpretovaný jazyk, když programátor napíše cyklus, provádí ho přímočaře jednu iteraci po druhé. To vůbec nedovolí, aby se CPU projevil (provedení více operací současně, maskování pomalého přístupu do paměti).\n",
    "\n",
    "Pro skutečné numerické výpočty je tento přístup nepřijatelný. "
   ]
  },
  {
   "cell_type": "markdown",
   "id": "d96ffbe0-5dfd-4b81-bc95-6ed98e27d97b",
   "metadata": {},
   "source": [
    "### Knihovna numpy\n",
    "\n",
    "Místo přímočarého přístupu musíme využít knihoven, jejichž implementace možnosti CPU dokáže využít, `numpy` je zlatý standard. \n",
    "\n",
    "- Poskytuje datové typy, které reprezentují vektory, matice, tenzory, ...\n",
    "- Operace nad nimi jsou implementovány efektivně s ohledem na možnosti CPU\n",
    "- Formulací problému \"vektorově\" na tuto výpočetní efektivitu dosáhneme\n",
    "- Viz https://numpy.org/doc/stable/\n",
    "\n",
    "Obecně platí, že knihovnám vždy musíme umožnit pracovat s větším množstvím čísel současně, tedy pracovat explicitně s vektory, maticemi a tenzory, ne s jejich jednotlivými prvky.\n"
   ]
  },
  {
   "cell_type": "code",
   "execution_count": null,
   "id": "3b2ca117-b7cf-4c79-a1a5-17975ad095e5",
   "metadata": {},
   "outputs": [],
   "source": [
    "import numpy as np"
   ]
  },
  {
   "cell_type": "code",
   "execution_count": null,
   "id": "cc629abd-cad3-48da-bbc1-2ddd079e50b7",
   "metadata": {},
   "outputs": [],
   "source": [
    "# zkusme větší matice\n",
    "Nn=5000"
   ]
  },
  {
   "cell_type": "code",
   "execution_count": null,
   "id": "8cb51a57-15fd-47fc-a083-f795611b0706",
   "metadata": {},
   "outputs": [],
   "source": [
    "An = np.array(randmatrix(Nn))\n",
    "Bn = np.array(randmatrix(Nn))"
   ]
  },
  {
   "cell_type": "code",
   "execution_count": null,
   "id": "de18cfdc-cf2b-4922-9d2c-0e9251666c33",
   "metadata": {},
   "outputs": [],
   "source": [
    "An"
   ]
  },
  {
   "cell_type": "code",
   "execution_count": null,
   "id": "74565018-336b-4f63-a214-85380b56a692",
   "metadata": {},
   "outputs": [],
   "source": [
    "start=time()\n",
    "\n",
    "# TODO: najděte v dokumentaci numpy (nebo se zeptejte umělé inteligence), jak se v numpy vynásobí matice: Cn = An Bn\n",
    "\n",
    "Cn = An @ Bn\n",
    "\n",
    "# ODOT\n",
    "\n",
    "end=time()\n",
    "measured_flops = 2 * Nn**3 / (end-start)\n",
    "\n",
    "print(f'Násobení matic řádu {Nn} trvalo {end-start : .2f} s, tedy počítáme s výkonem { measured_flops/ 1e9 : .3f} GFLOPS')\n"
   ]
  },
  {
   "cell_type": "markdown",
   "id": "42bdd52b-3932-4ac3-bcfd-ade0e5f6b3f2",
   "metadata": {},
   "source": [
    "### Srovnání výkonu numpy\n",
    "\n",
    "V tomto případě bychom měli dosáhnout na alespoň 80% teoretického výkonu CPU. To už je považováno za velmi dobrý výsledek, 20% snadno padne na přístupy do paměti, interakci Pythonu s implementací numpy, náběh z úsporného režimu procesoru, interferenci s dalšími uživateli systému apod."
   ]
  },
  {
   "cell_type": "code",
   "execution_count": null,
   "id": "cb525369-c89c-4362-8615-eba974242dd9",
   "metadata": {},
   "outputs": [],
   "source": [
    "measured_flops / flops_cpuinfo"
   ]
  },
  {
   "cell_type": "markdown",
   "id": "e470c67b-9683-4c81-8e6b-47791f962dee",
   "metadata": {},
   "source": [
    "## Univerzální funkce a vektorizace\n",
    "`numpy` poskytuje základní operace lineární algebry (maticové násobení, skalární součin, ...), na ty postupně narazíme a dále **univerzální funkce**, které (opět efektivně) pracují na všech prvcích vektorů, matic, ..."
   ]
  },
  {
   "cell_type": "markdown",
   "id": "eccfaefc-a468-49bf-8a70-2041086dfc13",
   "metadata": {},
   "source": [
    "### Tlumený oscilátor\n",
    "(další triviální umělý příklad)\n",
    "\n",
    "Časový průběh veličiny $y$ (ať je to co je to) je:\n",
    "$$ y(t) = Y e^{-t/T} \\sin(\\omega t) $$"
   ]
  },
  {
   "cell_type": "code",
   "execution_count": null,
   "id": "3dcd2b2c-5a6d-4e77-961b-e6d67ba747c3",
   "metadata": {},
   "outputs": [],
   "source": [
    "Y = 42.\n",
    "T = 12.3456\n",
    "omega = 2. * np.pi "
   ]
  },
  {
   "cell_type": "code",
   "execution_count": null,
   "id": "38dafa85-f112-4fe1-877f-90966d1f6fa8",
   "metadata": {},
   "outputs": [],
   "source": [
    "# absurdně mnoho vzorků t\n",
    "num = int(1e7)\n",
    "ts = np.linspace(start=0., stop=20., num=num)\n",
    "ts"
   ]
  },
  {
   "cell_type": "code",
   "execution_count": null,
   "id": "0fe5c38a-ec4b-4397-8459-f6715203f246",
   "metadata": {},
   "outputs": [],
   "source": [
    "# prostor pro výsledek\n",
    "ys = np.zeros_like(ts)"
   ]
  },
  {
   "cell_type": "code",
   "execution_count": null,
   "id": "c7ee1055-74d4-405f-88c3-262715fba3c1",
   "metadata": {},
   "outputs": [],
   "source": [
    "from math import exp,sin"
   ]
  },
  {
   "cell_type": "code",
   "execution_count": null,
   "id": "d71b10f9-27ba-411c-9590-4b63386f9b94",
   "metadata": {},
   "outputs": [],
   "source": [
    "start = time()\n",
    "\n",
    "# naivní implementace cyklem\n",
    "for i,t in enumerate(ts):\n",
    "    ys[i] = Y * exp(-t / T) * sin(omega * t)\n",
    "\n",
    "end = time()\n",
    "\n",
    "it_s = num / (end-start)\n",
    "\n",
    "print(f'Počet iterací za sekundu: {it_s : .0f}, tj. { flops_cpuinfo / it_s : .0f} operací na iteraci (při teoretickém výkonu tohoto CPU)')\n",
    "    "
   ]
  },
  {
   "cell_type": "markdown",
   "id": "efb1d336-5ec2-458a-a946-9efa8d0bc3f1",
   "metadata": {},
   "source": [
    "### Očekávaný výkon\n",
    "\n",
    "Složitější funkce `sin` a `exp` jsou implementovány Taylorovým rozvojem, vyžadujeme přesnost na 16-20 desetinných míst, lze čekat orientačně 1000 základních aritmetických operací na každou, ale ne řádově více.\n",
    "\n",
    "Problém je opět v programátorem napsaném cyklu."
   ]
  },
  {
   "cell_type": "code",
   "execution_count": null,
   "id": "61322255-a509-4220-ad30-fa23274f3eb9",
   "metadata": {},
   "outputs": [],
   "source": [
    "import matplotlib.pyplot as plt"
   ]
  },
  {
   "cell_type": "code",
   "execution_count": null,
   "id": "4acbc92a-89d0-42fb-8eaa-d21ace97a3b7",
   "metadata": {},
   "outputs": [],
   "source": [
    "# nakreslíme si výsledek, ať není nuda\n",
    "plt.plot(ts,ys)\n",
    "plt.show()"
   ]
  },
  {
   "cell_type": "markdown",
   "id": "364095fd-d759-4bdb-bfb1-7d4591684eea",
   "metadata": {},
   "source": [
    "### Implementace v numpy\n",
    "\n",
    "Najděte v dokumentaci, jak použíti funkce `sin` a `exp` z knihovny `numpy` a proveďte stejný výpočet bez explicitního cyklu."
   ]
  },
  {
   "cell_type": "code",
   "execution_count": null,
   "id": "f0991ab9-102a-4e70-adf8-616954942aff",
   "metadata": {},
   "outputs": [],
   "source": [
    "start = time()\n",
    "\n",
    "# TODO: a teď totéž s numpy\n",
    "\n",
    "y = Y * np.exp(-ts / T) * np.sin(omega * ts)\n",
    "\n",
    "# ODOT\n",
    "\n",
    "end = time()\n",
    "\n",
    "it_s = num / (end-start)\n",
    "\n",
    "print(f'Počet iterací za sekundu: {it_s : .0f}, tj. { flops_cpuinfo / it_s : .0f} operací na iteraci (při teoretickém výkonu)')\n",
    "\n"
   ]
  },
  {
   "cell_type": "markdown",
   "id": "484309a2-d0a3-468d-b1fb-695e0aaf21c7",
   "metadata": {},
   "source": [
    "## Osy a broadcast\n",
    "\n",
    "Numpy pracuje s pojmem _osa (axis)_, označuje pořadí indexu ve vícerozměrném poli. Není-li to jednoznačné, operace vyžadují specifikaci, podle které osy mají postupovat. Např.:"
   ]
  },
  {
   "cell_type": "code",
   "execution_count": null,
   "id": "253d3344-1691-41c1-8ff6-352e32f1d242",
   "metadata": {},
   "outputs": [],
   "source": [
    "A = np.random.uniform(5,size=(3,3)).astype(np.int32)\n",
    "A"
   ]
  },
  {
   "cell_type": "code",
   "execution_count": null,
   "id": "424afbdd-6846-4e48-934a-daf07058246c",
   "metadata": {},
   "outputs": [],
   "source": [
    "np.sum(A,axis=None)   #default, všechny osy "
   ]
  },
  {
   "cell_type": "code",
   "execution_count": null,
   "id": "a702ce86-7482-4e3f-b633-f08b5cb9fb1b",
   "metadata": {},
   "outputs": [],
   "source": [
    "np.sum(A,axis=0) # součty sloupců"
   ]
  },
  {
   "cell_type": "code",
   "execution_count": null,
   "id": "85b1c22a-e560-4af0-be1d-61a51a603b7f",
   "metadata": {},
   "outputs": [],
   "source": [
    "np.sum(A,axis=1) # součty řádků"
   ]
  },
  {
   "cell_type": "markdown",
   "id": "b22939f4-e37a-4d78-a11d-c6f6ac084baf",
   "metadata": {},
   "source": [
    "Tam, kde si rozměry polí neodpovídají, `numpy` se snaží si je domyslet a vhodně doplnit opakováním, tzv. _broadcast_."
   ]
  },
  {
   "cell_type": "code",
   "execution_count": null,
   "id": "eed06a5c-0f54-4980-88ed-5724b3d4d9f1",
   "metadata": {},
   "outputs": [],
   "source": [
    "x = np.array([1,2,3])"
   ]
  },
  {
   "cell_type": "code",
   "execution_count": null,
   "id": "7fc0d5be-3acd-4426-a360-d506cad5ae5e",
   "metadata": {},
   "outputs": [],
   "source": [
    "x * 2"
   ]
  },
  {
   "cell_type": "code",
   "execution_count": null,
   "id": "0c86274b-0e44-4c5d-9c44-7df9c807e514",
   "metadata": {},
   "outputs": [],
   "source": [
    "x + np.array([2])\n",
    "# tohle ale nejde:  x + np.array([2,2]) "
   ]
  },
  {
   "cell_type": "code",
   "execution_count": null,
   "id": "a392df4a-771e-461c-8512-224d2098dbdf",
   "metadata": {},
   "outputs": [],
   "source": [
    "A + x, (A + x) - A  # vektor je řádek, broadcastuje se na opakování po řádcích"
   ]
  },
  {
   "cell_type": "code",
   "execution_count": null,
   "id": "b9ea0e85-473f-4ff1-a7b6-4c81f847f7ee",
   "metadata": {},
   "outputs": [],
   "source": [
    "xt = x[:,np.newaxis] # sloupcový vektor zkonstruujeme \"přidáním\" druhé osy\n",
    "xt"
   ]
  },
  {
   "cell_type": "code",
   "execution_count": null,
   "id": "9f4de112-bae4-43c5-93d6-3f7e2eaec933",
   "metadata": {},
   "outputs": [],
   "source": [
    "A + xt, (A + xt) - A"
   ]
  },
  {
   "cell_type": "code",
   "execution_count": null,
   "id": "73282b7c-7af4-406d-9447-9b4328cec928",
   "metadata": {},
   "outputs": [],
   "source": [
    "mx = -x\n",
    "mx[:,np.newaxis] + x  # broadcast po obou osách"
   ]
  },
  {
   "cell_type": "code",
   "execution_count": null,
   "id": "e6e303ca-c2d7-4fcd-98a3-ca1d9ee295a8",
   "metadata": {},
   "outputs": [],
   "source": []
  }
 ],
 "metadata": {
  "kernelspec": {
   "display_name": "Python [conda env:base] *",
   "language": "python",
   "name": "conda-base-py"
  },
  "language_info": {
   "codemirror_mode": {
    "name": "ipython",
    "version": 3
   },
   "file_extension": ".py",
   "mimetype": "text/x-python",
   "name": "python",
   "nbconvert_exporter": "python",
   "pygments_lexer": "ipython3",
   "version": "3.11.6"
  }
 },
 "nbformat": 4,
 "nbformat_minor": 5
}
