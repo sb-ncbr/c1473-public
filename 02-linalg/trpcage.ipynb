{
 "cells": [
  {
   "cell_type": "markdown",
   "id": "3cfc33ce-b41b-410a-a3d1-633263326e39",
   "metadata": {},
   "source": [
    "# Zpracování a analýza trajektorie molekulární dynamiky\n",
    "**(pseoudorealistický scénář použití `numpy` na skutečných datech)**\n",
    "\n",
    "[Molekulární dynamika](https://en.wikipedia.org/wiki/Molecular_dynamics) je dlouho a široce rozšířená simulační technika, která dává náhled na chování \n",
    "biomolekul, materiálů, atd. \n",
    "Atomy aproximuje jako hmotné body, pracuje s jejich vzájemnou silovou interakcí, a jejich pohyb počítá podle běžných fyzikálních zákonů (Newtonovy pohybové rovnice).\n",
    "\n",
    "Primárním výsledkem simulace je _trajektorie_, série velkého počtu snímků, každý snímek obsahuje 3D souřadnice všech atomů v systému.\n",
    "Pro numerické zpracování je to tenzor $N\\times M\\times 3$, kde $N$ je počet snímků a $M$ počet atomů."
   ]
  },
  {
   "cell_type": "code",
   "execution_count": null,
   "id": "9ee1458e-31bf-431e-ba91-6ea986841036",
   "metadata": {},
   "outputs": [],
   "source": [
    "import numpy as np\n",
    "import mdtraj as md\n",
    "import nglview as nv\n",
    "import matplotlib.pyplot as plt"
   ]
  },
  {
   "cell_type": "code",
   "execution_count": null,
   "id": "b889bed4-a442-4362-bdf5-a40a1ee12d27",
   "metadata": {},
   "outputs": [],
   "source": [
    "data = '../data/'\n",
    "pdb = data + 'trpcage.pdb'\n",
    "xtc = data + 'trpcage_messed.xtc'"
   ]
  },
  {
   "cell_type": "code",
   "execution_count": null,
   "id": "505fd38e-f0b6-4ee1-8ff8-fddddb33fbd0",
   "metadata": {},
   "outputs": [],
   "source": [
    "traj = md.load_xtc(xtc, top=pdb)"
   ]
  },
  {
   "cell_type": "code",
   "execution_count": null,
   "id": "a26a4f31-a8c3-4acb-aba8-b376ffde6e57",
   "metadata": {},
   "outputs": [],
   "source": [
    "nv.show_mdtraj(traj)"
   ]
  },
  {
   "cell_type": "code",
   "execution_count": null,
   "id": "1af11c43-ed13-49bc-8421-47c28338d0fb",
   "metadata": {},
   "outputs": [],
   "source": [
    "traj.xyz.shape"
   ]
  },
  {
   "cell_type": "markdown",
   "id": "866a9950-a45e-42f3-b519-f6043e257bcc",
   "metadata": {},
   "source": [
    "## Vycentrování snímků\n",
    "Molekula v trajektorii nespojitě \"skáče\" (simulace typicky ukládá snímek jen každých 5-50 tis. vlastních kroků), vzájemně je tedy těžko srovnáme.\n",
    "\n",
    "V prvním kole vytvořte novou trajektorii a nastavte jí pozice atomů tak, aby těžiště molekuly zůstávalo v počtátku souřadné soustavy."
   ]
  },
  {
   "cell_type": "code",
   "execution_count": null,
   "id": "2348b077-0219-471e-85f5-c7ac07a42af6",
   "metadata": {},
   "outputs": [],
   "source": [
    "traj_center = md.load_pdb(pdb)"
   ]
  },
  {
   "cell_type": "code",
   "execution_count": null,
   "id": "fc0aa6bf-ac9b-4508-8aab-0196c1235216",
   "metadata": {},
   "outputs": [],
   "source": [
    "\n",
    "# TODO: traj_center.xyz = vycentrované souřadnice  (np.array o rozměrech N x M x 3)\n",
    "# ODOT"
   ]
  },
  {
   "cell_type": "code",
   "execution_count": null,
   "id": "397ab35f-3eea-4ed9-985a-4969fab1e3da",
   "metadata": {},
   "outputs": [],
   "source": [
    "v = nv.show_mdtraj(traj_center)\n",
    "v"
   ]
  },
  {
   "cell_type": "code",
   "execution_count": null,
   "id": "a81167e2-f327-4ff2-8387-ef48c87d1151",
   "metadata": {},
   "outputs": [],
   "source": [
    "# nastavení konkrétního snímku ve vizualizaci v předchozí buňce\n",
    "v.frame = 1"
   ]
  },
  {
   "cell_type": "markdown",
   "id": "99ac13e2-a159-4afe-8dec-bb5bde7a3bba",
   "metadata": {},
   "source": [
    "## Rotace minimalizující RMSD\n",
    "\n",
    "Molekulu máme ukotvenou v počátku, ale pořád se ještě volně otáčí. Pro každý snímek proto hledáme rotaci $R$, která bude minimalizovat průměrnou vzdálenost všech atomů (RMSD) vůči počátečnímu tvaru:\n",
    "\n",
    "$$\\textit{RMSD}(\\textbf x, \\textbf Ry) = \\sqrt{ \\frac1M \\sum_{i=0}^{M-1} \\|Ry_i - x_i \\|^2}$$\n",
    "\n",
    "Jednou z možností nalezení takové rotace je [Kabschův algoritmus](https://en.wikipedia.org/wiki/Kabsch_algorithm):\n",
    "\n",
    "1. Vycházíme z vycentrovaných souřadnic, $\\textbf x, \\textbf y$ chápeme jako matice $M\\times 3$. Spočteme součin $$ H = \\textbf x^T \\textbf y $$\n",
    "a jeho rozklad na singulární hodnoty $$ U\\Sigma V^T = H $$\n",
    "2. Ortogonální matice $U,V$ mohou být rotace (pak $\\det U = 1$) nebo kombinace rotace a reflexe ($\\det U = -1$), spočteme součin $$ d = \\det U  \\det V$$\n",
    "3. Rotace $$ R = U \\left(\\begin{array}{ccc}1&0&0\\\\ 0&1&0 \\\\ 0&0&d\\end{array}\\right) V^T$$ minimalizuje $\\textit{RMSD}(\\textbf x, \\textbf Ry)$ (viz reference na uvedené stránce)\n",
    " "
   ]
  },
  {
   "cell_type": "markdown",
   "id": "8a691bd8-5faf-46d0-bdaa-f1ad53fd6271",
   "metadata": {},
   "source": [
    "### Jeden snímek\n",
    "Pro větší názornost implementujte algoritmus pro první dva snímky trajektorie, tj. hledáme vhodnou rotaci `R1`, která `xyz[1]` otočí na `xyz[0]`"
   ]
  },
  {
   "cell_type": "code",
   "execution_count": null,
   "id": "a8657f14-1b8f-45ea-ac9a-3cb23ba3804b",
   "metadata": {},
   "outputs": [],
   "source": [
    "xyz = traj_center.xyz\n",
    "xyz.shape"
   ]
  },
  {
   "cell_type": "code",
   "execution_count": null,
   "id": "be4efed8-1102-488c-815e-c74de0ae6ee1",
   "metadata": {},
   "outputs": [],
   "source": [
    "# TODO: R1 = rotace snímku [1], matice 3 x 3\n"
   ]
  },
  {
   "cell_type": "code",
   "execution_count": null,
   "id": "173759a6-e974-4c6f-a679-a38738556675",
   "metadata": {},
   "outputs": [],
   "source": [
    "# ODOT"
   ]
  },
  {
   "cell_type": "code",
   "execution_count": null,
   "id": "3a0f46e7-9090-4023-af58-5853f2430d65",
   "metadata": {},
   "outputs": [],
   "source": [
    "# Rotaci aplikujeme (vektory souřadnic je třeba chápat jako sloupcové, proto transopozice)\n",
    "xyz1a = (R1 @ xyz[1].T).T"
   ]
  },
  {
   "cell_type": "code",
   "execution_count": null,
   "id": "2c8b95ed-7683-44f6-9a13-f0bc9f24681e",
   "metadata": {},
   "outputs": [],
   "source": [
    "# RMSD původní a po rotaci\n",
    "def rmsd(x,y):\n",
    "    return np.sqrt(np.mean(np.linalg.norm(x-y,axis=1)))\n",
    "\n",
    "rmsd(xyz[0],xyz[1]), rmsd(xyz[0],xyz1a)"
   ]
  },
  {
   "cell_type": "code",
   "execution_count": null,
   "id": "ef4bd99b-8be6-45ee-88b7-62e53de93802",
   "metadata": {},
   "outputs": [],
   "source": [
    "# Umělá trajektorie z dvou snímků pro vizuální ověření \n",
    "traj1a = md.load_pdb(pdb)\n",
    "traj1a.xyz = np.stack([xyz[0],xyz1a])"
   ]
  },
  {
   "cell_type": "code",
   "execution_count": null,
   "id": "7a93bce4-85f9-467f-abf7-353a73dfcbfe",
   "metadata": {},
   "outputs": [],
   "source": [
    "nv.show_mdtraj(traj1a)"
   ]
  },
  {
   "cell_type": "markdown",
   "id": "b73ac9df-2068-4602-ab71-7165af283fed",
   "metadata": {},
   "source": [
    "### Všechny snímky současně\n",
    "\n",
    "Pamatujme přikázání \"Nenapíšeš cyklus\", místo toho využijeme vektorové/maticové operace, broadcast a `np.moveaxis` v roli zobecněné transpozice.\n",
    "\n",
    "Ve skutečnosti je toto rozšíření (při správně napsaném algoritmu pro jeden snímek) velmi přímočaré."
   ]
  },
  {
   "cell_type": "code",
   "execution_count": null,
   "id": "2dc01754-16ef-4439-a788-a8a0990c2512",
   "metadata": {},
   "outputs": [],
   "source": [
    "# TODO: R = rotace pro všechny snímky, N x 3 x 3\n"
   ]
  },
  {
   "cell_type": "code",
   "execution_count": null,
   "id": "4394669c-1dca-4d67-91fe-c7fb41ecb2d5",
   "metadata": {},
   "outputs": [],
   "source": [
    "\n",
    "# ODOT"
   ]
  },
  {
   "cell_type": "code",
   "execution_count": null,
   "id": "60cfae9c-a535-41b4-a137-2a8ccb0641e4",
   "metadata": {},
   "outputs": [],
   "source": [
    "xyzt = np.moveaxis(xyz,1,2)\n",
    "xyzt.shape"
   ]
  },
  {
   "cell_type": "code",
   "execution_count": null,
   "id": "f0a81aa1-310d-4dac-85b7-aca2c0a5842b",
   "metadata": {},
   "outputs": [],
   "source": [
    "xyza = R @ xyzt\n",
    "xyza.shape"
   ]
  },
  {
   "cell_type": "code",
   "execution_count": null,
   "id": "dcc5ea4b-cb7c-4b78-94a9-41620aa65d34",
   "metadata": {},
   "outputs": [],
   "source": [
    "traja = md.load_pdb(pdb)\n",
    "traja.xyz = np.moveaxis(xyza,2,1)"
   ]
  },
  {
   "cell_type": "code",
   "execution_count": null,
   "id": "0557add5-5537-41a9-8392-ca3965f03728",
   "metadata": {},
   "outputs": [],
   "source": [
    "nv.show_mdtraj(traja)"
   ]
  },
  {
   "cell_type": "markdown",
   "id": "50dc8126-fa58-4c2a-a9af-401646c0cd4a",
   "metadata": {},
   "source": [
    "## Vzdálenost atomů od výchozí pozice\n",
    "S využitím broadcastu (a bez cyklů) vypočítejte současně vzdálenosti všech atomů od jejich výchozí pozice.\n",
    "\n",
    "Vyzkoušejte pro původní i transofrmovanou trajektorii, demonstrujeme tak smysluplnost minimalizace RMSD."
   ]
  },
  {
   "cell_type": "code",
   "execution_count": null,
   "id": "ef369e7d-f422-4c57-915f-96c91236120d",
   "metadata": {},
   "outputs": [],
   "source": [
    "# TODO: dist0 = vzdálenosti všech atomů od snímku [0], N x M\n"
   ]
  },
  {
   "cell_type": "code",
   "execution_count": null,
   "id": "c420647e-e388-4452-88eb-82b50fdea080",
   "metadata": {},
   "outputs": [],
   "source": [
    "#ODOT"
   ]
  },
  {
   "cell_type": "code",
   "execution_count": null,
   "id": "74ffe296-cd0f-4084-92ea-253fcb7ee5ec",
   "metadata": {},
   "outputs": [],
   "source": [
    "# Zobrazíme vývoj vzdáleností několika atomů na prvních 200 snímcích\n",
    "plt.figure(figsize=(15,4))\n",
    "for i in range(0,dist0.shape[1],28):\n",
    "    plt.plot(dist0[:200,i],label=str(i))\n",
    "plt.legend()\n",
    "plt.show()"
   ]
  },
  {
   "cell_type": "markdown",
   "id": "f1c70821-29c0-4818-b8a7-cbbd655873cf",
   "metadata": {},
   "source": [
    "## Vzdálenosti C$\\alpha$ každý s každým\n",
    "\n",
    "Uhlíik C$\\alpha$ je \"centrální\" atom každé aminokyseliny. Jejich rozmístění už s velkou přesností určuje celou strukturu proteinu, proto je matice jejich vzájemných vzdáleností charakteristická pro konkrétní tvar proteinu.\n",
    "\n",
    "Spočítejte pro každý snímek všechny jejich vzdálenosti současně, vhodným využitím broadcastu s nápovědou přes `np.newaxis`.\n",
    "\n",
    "Pro názornost můžete postup nejprve implementovat pro první snímek a pak rozšířit."
   ]
  },
  {
   "cell_type": "code",
   "execution_count": null,
   "id": "3f0211ed-d319-41c2-b581-bf65a751142b",
   "metadata": {},
   "outputs": [],
   "source": [
    "# indexy všech CA\n",
    "cas = traja.topology.select('name == CA')\n",
    "cas"
   ]
  },
  {
   "cell_type": "code",
   "execution_count": null,
   "id": "821c5597-c16f-47cf-9c81-d3fe94ed6ce8",
   "metadata": {},
   "outputs": [],
   "source": [
    "# trajektorie pouze pro CA\n",
    "xyz_ca = traja.xyz[:,cas,:]\n",
    "xyz_ca.shape"
   ]
  },
  {
   "cell_type": "code",
   "execution_count": null,
   "id": "b0e5dc8e-0ad9-4b94-a1b9-fb9c78c76aef",
   "metadata": {},
   "outputs": [],
   "source": [
    "#TODO distca = ... pole N x 20 x 20 vzdáleností\n"
   ]
  },
  {
   "cell_type": "code",
   "execution_count": null,
   "id": "50fd4727-0286-4152-bef2-c979080aa653",
   "metadata": {},
   "outputs": [],
   "source": [
    "#ODOT"
   ]
  },
  {
   "cell_type": "code",
   "execution_count": null,
   "id": "e2a2b590-b2b9-490b-8517-e3c450d36591",
   "metadata": {},
   "outputs": [],
   "source": [
    "# Grafy pro některé dvojice a prvních 500 snímků\n",
    "plt.figure(figsize=(15,4))\n",
    "for i in range(0,cas.shape[0] - 1,4):\n",
    "    plt.plot(distca[::500,i,i+1],label=f'{i} - {i+1}')\n",
    "plt.legend()\n",
    "plt.show()"
   ]
  },
  {
   "cell_type": "code",
   "execution_count": null,
   "id": "1b5e1c01-108a-4775-913f-a238d402d683",
   "metadata": {},
   "outputs": [],
   "source": [
    "plt.figure(figsize=(15,4))\n",
    "for i in range(0,cas.shape[0] - 1,4):\n",
    "    plt.plot(distca[::500,0,i+1],label=f'{0} - {i+1}')\n",
    "plt.legend()\n",
    "plt.show()"
   ]
  },
  {
   "cell_type": "markdown",
   "id": "9313cdb5-0f17-4ecb-87d9-4a9ed91d35ad",
   "metadata": {},
   "source": [
    "## Dihedrální úhly\n",
    "\n",
    "Bonusový úkol, spočítejme dihedrální úhly podél páteře proteinu."
   ]
  },
  {
   "cell_type": "code",
   "execution_count": null,
   "id": "0b722454-7e98-449b-9afb-c0804caa63f9",
   "metadata": {},
   "outputs": [],
   "source": [
    "traj.topology.select('backbone and name != O')"
   ]
  },
  {
   "cell_type": "markdown",
   "id": "a03904c6-73ea-40fb-a754-d42aa7730571",
   "metadata": {},
   "source": [
    "## Konvergence trajektorie\n",
    "\n",
    "Zpravidla nás zajímají trajektorie MD, které _zkonvergovaly_, tj. už vyčerpaly všechno možné chování proteinu a další pohyby už jsou jen jejich opakováním.\n",
    "\n",
    "Jedna z možností, jak to určit je přepočítat pohyby molekuly na _esenciální souřadnice_ -- takové lineární kombinace souřadnic atomů, že dohromady \"vysvětlují\"\n",
    "část dynamiky. Pokud význam těchto kombinací je stejný, spočteme-li ho pro celou trajektorii i její úvodní část, lze čekat, že pokračováním simulace už se nic dalšího zajímavého nestane.\n",
    "\n",
    "Esenciální souřadnice a jejich význam zjistíme rozkladem korelační matice souřadnic přes všechny snímky na vlastní hodnoty:\n",
    "\n",
    "1. Všechny 3D souřadnice zploštíme do matice $\\textbf x$ o rozměrech $N \\times 3M$\n",
    "3. Spočteme korelační matici pohybů všech souřadnic $C = (\\textbf x - \\mu)^T \\textbf (x-\\mu) / N$, kde $\\mu$ jsou střední hodnoty všech souřadnic\n",
    "4. Spočteme absolutní vlastní hodnoty $|\\lambda_i|$ matice $C$, normalizujeme je tak, aby $\\sum|\\lambda_i| = 1$ a setřídíme je od největší\n",
    "6. Pro větší názornost vykreslíme graf kumulativního součtu vlastních hodnot do cca. 95% (dál už jsou nezajímavé)\n",
    "7. Postup opakujeme pouze pro část trajektorie a grafy srovnáme\n",
    "   \n",
    "Postup a argumentace pochází z klasického článku https://doi.org/10.1002/prot.340170408"
   ]
  },
  {
   "cell_type": "code",
   "execution_count": null,
   "id": "552ac77e-e397-4770-bd95-e7cfe23dab88",
   "metadata": {},
   "outputs": [],
   "source": []
  },
  {
   "cell_type": "code",
   "execution_count": null,
   "id": "c8dd1153-cd0c-4a91-9327-d00b37d845b0",
   "metadata": {},
   "outputs": [],
   "source": [
    "# zploštění matice souřadnic\n",
    "xyz_flat = np.reshape(traja.xyz,(traja.xyz.shape[0],-1))\n",
    "xyz_flat.shape"
   ]
  },
  {
   "cell_type": "code",
   "execution_count": null,
   "id": "9a79134e-d839-460c-aaaf-e847b6818cc5",
   "metadata": {},
   "outputs": [],
   "source": [
    "# TODO: full_cor = matice korelace pohybů souřadnic, 3M x 3M \n"
   ]
  },
  {
   "cell_type": "code",
   "execution_count": null,
   "id": "f6ac504d-c220-4d62-82a6-2ed0a5c0c72b",
   "metadata": {},
   "outputs": [],
   "source": []
  },
  {
   "cell_type": "code",
   "execution_count": null,
   "id": "911fe6b2-87b6-4a24-aff6-b6b706227129",
   "metadata": {},
   "outputs": [],
   "source": [
    "# TODO: full_ev = vektor 3M vlastních hodnot\n",
    "# ODOT\n",
    "full_ev /= np.sum(full_ev) # normalizace\n",
    "full_ev = np.flip(full_ev) # opačné pořadí\n",
    "cumul_full = np.cumsum(full_ev) # kumulativní součet\n",
    "full_ev[:15]"
   ]
  },
  {
   "cell_type": "code",
   "execution_count": null,
   "id": "cf68f372-a6eb-4418-b693-ee7d1382315f",
   "metadata": {},
   "outputs": [],
   "source": [
    "percent = 2\n",
    "part = int(percent/100. * xyz.shape[0])\n",
    "\n",
    "# TODO: part_cor, part_ev ... totéž pro xyz_flat[:part]\n",
    "\n"
   ]
  },
  {
   "cell_type": "code",
   "execution_count": null,
   "id": "f7d15d9f-cd97-4151-9861-36faca7846b7",
   "metadata": {},
   "outputs": [],
   "source": [
    "\n",
    "# ODOT\n",
    "\n",
    "part_ev[:15]"
   ]
  },
  {
   "cell_type": "code",
   "execution_count": null,
   "id": "e8bab17a-a3a7-4153-8bad-e59f18b75227",
   "metadata": {},
   "outputs": [],
   "source": [
    "# končíme na 95%, dál už není nic zajímavého\n",
    "show = np.sum(cumul_full < 0.95)\n",
    "show"
   ]
  },
  {
   "cell_type": "code",
   "execution_count": null,
   "id": "17ec8d09-24c6-4e80-8c65-15e25bbf39a9",
   "metadata": {},
   "outputs": [],
   "source": [
    "plt.figure(figsize=(14,5))\n",
    "plt.plot(cumul_part[:show],label='part',marker='x')\n",
    "plt.plot(cumul_full[:show],label='full',marker='o')\n",
    "plt.legend()\n",
    "plt.show()"
   ]
  },
  {
   "cell_type": "markdown",
   "id": "7e8fabda-7ac5-4061-8ae8-f7ab4c276d39",
   "metadata": {},
   "source": [
    "**A to je konec pohádky. Dobrou noc, strýčku Fido, dobrou noc, děti.**"
   ]
  },
  {
   "cell_type": "code",
   "execution_count": null,
   "id": "4f170d2c-434e-4d9b-9f7b-1ea6484bc92f",
   "metadata": {},
   "outputs": [],
   "source": []
  }
 ],
 "metadata": {
  "kernelspec": {
   "display_name": "Python [conda env:base] *",
   "language": "python",
   "name": "conda-base-py"
  },
  "language_info": {
   "codemirror_mode": {
    "name": "ipython",
    "version": 3
   },
   "file_extension": ".py",
   "mimetype": "text/x-python",
   "name": "python",
   "nbconvert_exporter": "python",
   "pygments_lexer": "ipython3",
   "version": "3.11.6"
  }
 },
 "nbformat": 4,
 "nbformat_minor": 5
}
